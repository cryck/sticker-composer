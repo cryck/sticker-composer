{
 "cells": [
  {
   "cell_type": "code",
   "execution_count": 15,
   "metadata": {},
   "outputs": [],
   "source": [
    "import json"
   ]
  },
  {
   "cell_type": "code",
   "execution_count": 16,
   "metadata": {},
   "outputs": [
    {
     "name": "stdout",
     "output_type": "stream",
     "text": [
      "[{'id': 'sticker-1', 'name': 'Sticker | Shooter', 'description': 'This sticker can be applied to any weapon you own and can be scraped to look more worn. You can scrape the same sticker multiple times, making it a bit more worn each time, until it is removed from the weapon.', 'rarity': {'id': 'rarity_default', 'name': 'Default', 'color': '#ded6cc'}, 'crates': [], 'image': 'https://steamcdn-a.akamaihd.net/apps/730/icons/econ/stickers/dreamhack/dh_gologo1_large.9cb84d29f38fe347f001e7057a188696bda6f67b.png'}, {'id': 'sticker-2', 'name': 'Sticker | Shooter (Foil)', 'description': 'This sticker can be applied to any weapon you own and can be scraped to look more worn. You can scrape the same sticker multiple times, making it a bit more worn each time, until it is removed from the weapon.', 'rarity': {'id': 'rarity_default', 'name': 'Default', 'color': '#ded6cc'}, 'crates': [], 'image': 'https://steamcdn-a.akamaihd.net/apps/730/icons/econ/stickers/dreamhack/dh_gologo1_holo_large.b36272bc491f7df2964deede00ec90cb95c4de6a.png'}, {'id': 'sticker-3', 'name': 'Sticker | Shooter Close', 'description': 'This sticker can be applied to any weapon you own and can be scraped to look more worn. You can scrape the same sticker multiple times, making it a bit more worn each time, until it is removed from the weapon.', 'rarity': {'id': 'rarity_default', 'name': 'Default', 'color': '#ded6cc'}, 'crates': [], 'image': 'https://steamcdn-a.akamaihd.net/apps/730/icons/econ/stickers/dreamhack/dh_gologo2_large.7ffff249a85ef09b52f9a708d156b9c17e35adaa.png'}, {'id': 'sticker-4', 'name': 'Sticker | Shooter Close (Foil)', 'description': 'This sticker can be applied to any weapon you own and can be scraped to look more worn. You can scrape the same sticker multiple times, making it a bit more worn each time, until it is removed from the weapon.', 'rarity': {'id': 'rarity_default', 'name': 'Default', 'color': '#ded6cc'}, 'crates': [], 'image': 'https://steamcdn-a.akamaihd.net/apps/730/icons/econ/stickers/dreamhack/dh_gologo2_holo_large.708ec98e0d3256d32e45d68d8ebdd527f6627dcb.png'}, {'id': 'sticker-5', 'name': 'Sticker | Blue Snowflake', 'description': 'This sticker can be applied to any weapon you own and can be scraped to look more worn. You can scrape the same sticker multiple times, making it a bit more worn each time, until it is removed from the weapon.', 'rarity': {'id': 'rarity_default', 'name': 'Default', 'color': '#ded6cc'}, 'crates': [], 'image': 'https://steamcdn-a.akamaihd.net/apps/730/icons/econ/stickers/dreamhack/dh_snowflake2_large.806f44cd8fc0fd47869cabe85e4b75ca9cdd04b0.png'}, {'id': 'sticker-6', 'name': 'Sticker | Blue Snowflake (Foil)', 'description': 'This sticker can be applied to any weapon you own and can be scraped to look more worn. You can scrape the same sticker multiple times, making it a bit more worn each time, until it is removed from the weapon.', 'rarity': {'id': 'rarity_default', 'name': 'Default', 'color': '#ded6cc'}, 'crates': [], 'image': 'https://steamcdn-a.akamaihd.net/apps/730/icons/econ/stickers/dreamhack/dh_snowflake3_large.f54af72447dd90e11b64e097cd6ff0bcc0ddf28b.png'}, {'id': 'sticker-7', 'name': 'Sticker | Polar Bears', 'description': 'This sticker can be applied to any weapon you own and can be scraped to look more worn. You can scrape the same sticker multiple times, making it a bit more worn each time, until it is removed from the weapon.', 'rarity': {'id': 'rarity_default', 'name': 'Default', 'color': '#ded6cc'}, 'crates': [], 'image': 'https://steamcdn-a.akamaihd.net/apps/730/icons/econ/stickers/dreamhack/dh_bears_large.928002e08dc7f5a4cd1295febf05a481b2a83ae6.png'}, {'id': 'sticker-8', 'name': 'Sticker | Polar Bears (Foil)', 'description': 'This sticker can be applied to any weapon you own and can be scraped to look more worn. You can scrape the same sticker multiple times, making it a bit more worn each time, until it is removed from the weapon.', 'rarity': {'id': 'rarity_default', 'name': 'Default', 'color': '#ded6cc'}, 'crates': [], 'image': 'https://steamcdn-a.akamaihd.net/apps/730/icons/econ/stickers/dreamhack/dh_bears_holo_large.ecdd51be5d57bd8ac8ea359ac895a090cf991a5a.png'}, {'id': 'sticker-9', 'name': 'Sticker | Mountain', 'description': 'This sticker can be applied to any weapon you own and can be scraped to look more worn. You can scrape the same sticker multiple times, making it a bit more worn each time, until it is removed from the weapon.', 'rarity': {'id': 'rarity_default', 'name': 'Default', 'color': '#ded6cc'}, 'crates': [], 'image': 'https://steamcdn-a.akamaihd.net/apps/730/icons/econ/stickers/dreamhack/dh_mountain_large.6525110ca2bfe335997b07265a8fb08ca8262764.png'}, {'id': 'sticker-10', 'name': 'Sticker | Mountain (Foil)', 'description': 'This sticker can be applied to any weapon you own and can be scraped to look more worn. You can scrape the same sticker multiple times, making it a bit more worn each time, until it is removed from the weapon.', 'rarity': {'id': 'rarity_default', 'name': 'Default', 'color': '#ded6cc'}, 'crates': [], 'image': 'https://steamcdn-a.akamaihd.net/apps/730/icons/econ/stickers/dreamhack/dh_mountain_holo_large.4ba34bb6e1ff2776070b8fbc47fdc6512d62b4fe.png'}]\n"
     ]
    }
   ],
   "source": [
    "with open(\"stickers.json\", 'r') as f:\n",
    "    stickers_main = json.load(f)\n",
    "print(stickers_main[0:10])\n",
    "\n",
    "stickers = list(filter(lambda x: (x.get(\"matching\", False) or (\n",
    "    'autographed' in x['description'].lower())), stickers_main))"
   ]
  },
  {
   "cell_type": "code",
   "execution_count": 18,
   "metadata": {},
   "outputs": [
    {
     "name": "stdout",
     "output_type": "stream",
     "text": [
      "{'id': 'sticker-895', 'name': 'Sticker | rallen (Gold) | Cluj-Napoca 2015', 'image': 'https://steamcdn-a.akamaihd.net/apps/730/icons/econ/stickers/cluj2015/sig_rallen_gold_large.2f8ae0c7eaa713a0c2737c5d595e13709c561aa1.png', 'matching': 'rallen'}\n"
     ]
    }
   ],
   "source": [
    "def mutate_sticker(sticker: dict):\n",
    "    if (sticker.get(\"matching\", None) == None):\n",
    "        main_part: str = sticker[\"name\"].split(\" | \")[1]\n",
    "\n",
    "        for tag in [\"(Foil)\", \"(Gold)\", \"(Holo)\", \"(Holo, Champion)\", \"(Glitter)\", \"(Glitter, Champion)\", \"(Gold, Champion)\", \"(Champion)\", \"(Golden)\"]:\n",
    "            main_part = main_part.replace(tag, \"\")\n",
    "\n",
    "        main_part = main_part.strip().lower().replace(\n",
    "            \"$\", \"s\").replace(\"1\", \"i\").replace(\"3\", \"e\")\n",
    "\n",
    "        sticker[\"matching\"] = main_part\n",
    "        del sticker['description']\n",
    "        del sticker['crates']\n",
    "        del sticker['rarity']\n",
    "    return sticker\n",
    "\n",
    "\n",
    "stickers = [mutate_sticker(sticker) for sticker in stickers]\n",
    "\n",
    "print(stickers[532])"
   ]
  },
  {
   "cell_type": "code",
   "execution_count": 19,
   "metadata": {},
   "outputs": [],
   "source": [
    "\n",
    "all_full_words = list(set([sticker[\"matching\"] for sticker in stickers]))"
   ]
  },
  {
   "cell_type": "code",
   "execution_count": 20,
   "metadata": {},
   "outputs": [
    {
     "data": {
      "text/plain": [
       "['n0rber7',\n",
       " 'maniac',\n",
       " 'axile',\n",
       " 'nin9',\n",
       " 'smooya',\n",
       " 'aerial',\n",
       " 'stewie2k',\n",
       " 'patsi',\n",
       " 'jackz',\n",
       " 'fashr']"
      ]
     },
     "execution_count": 20,
     "metadata": {},
     "output_type": "execute_result"
    }
   ],
   "source": [
    "all_full_words[:10]"
   ]
  },
  {
   "cell_type": "code",
   "execution_count": 22,
   "metadata": {},
   "outputs": [],
   "source": [
    "# Want to Link text back to a list of sticker objects with that text\n",
    "stickers_by_matched_full_word = {}\n",
    "for matched_word in all_full_words:\n",
    "    stickers_with_that_pattern = []\n",
    "    for sticker in stickers:\n",
    "        if sticker[\"matching\"] == matched_word:\n",
    "            stickers_with_that_pattern.append(sticker)\n",
    "    stickers_by_matched_full_word[matched_word] = stickers_with_that_pattern"
   ]
  },
  {
   "cell_type": "code",
   "execution_count": 23,
   "metadata": {},
   "outputs": [],
   "source": [
    "# Want to Link text back to a list of sticker objects with that text\n",
    "sticker_ids_by_matched_full_word = {}\n",
    "for matched_word in all_full_words:\n",
    "    stickers_with_that_pattern = []\n",
    "    for sticker in stickers:\n",
    "        if sticker[\"matching\"] == matched_word:\n",
    "            stickers_with_that_pattern.append(sticker[\"id\"])\n",
    "    sticker_ids_by_matched_full_word[matched_word] = stickers_with_that_pattern"
   ]
  },
  {
   "cell_type": "code",
   "execution_count": 24,
   "metadata": {},
   "outputs": [
    {
     "data": {
      "text/plain": [
       "18"
      ]
     },
     "execution_count": 24,
     "metadata": {},
     "output_type": "execute_result"
    }
   ],
   "source": [
    "len(stickers_by_matched_full_word[\"scream\"])"
   ]
  },
  {
   "cell_type": "code",
   "execution_count": 25,
   "metadata": {},
   "outputs": [],
   "source": [
    "def group_letters(string):\n",
    "\n",
    "    result = []\n",
    "\n",
    "    def backtrack(start, current, result):\n",
    "        if start == len(string):\n",
    "            result.append(current)\n",
    "            return\n",
    "        for end in range(start + 1, len(string) + 1):\n",
    "            backtrack(end, current + [string[start:end]], result)\n",
    "\n",
    "    backtrack(0, [], result)\n",
    "    return result"
   ]
  },
  {
   "cell_type": "code",
   "execution_count": 26,
   "metadata": {},
   "outputs": [],
   "source": [
    "class Token:\n",
    "    start = 'START'\n",
    "    mid = \"MID\"\n",
    "    end = \"END\"\n",
    "    total = \"TOTAL\"\n",
    "\n",
    "    def __init__(self, text, full, idx, loc=None) -> None:\n",
    "        \"\"\"\n",
    "        text is the part of the sticker work we are using ie the token\n",
    "\n",
    "        full is the text of the full sticker and is used to determine loc with the idx if loc not given\n",
    "\n",
    "        idx is the index of the first letter that the text(aka token) uses in the full text string\n",
    "\n",
    "        loc specifies if the specified token is start mid end or total\n",
    "        \"\"\"\n",
    "        self.text = text\n",
    "        self.full = full\n",
    "        if loc == None:\n",
    "            if idx == 0 and idx == len(full)-1:\n",
    "                self.loc = Token.total\n",
    "            elif idx == 0:\n",
    "                self.loc = Token.start\n",
    "            elif idx == len(full)-1:\n",
    "                self.loc = Token.end\n",
    "            else:\n",
    "                self.loc = Token.mid\n",
    "        else:\n",
    "            self.loc = loc\n",
    "\n",
    "    def __repr__(self) -> str:\n",
    "\n",
    "        return f\"<Token:{self.loc}:{self.text}>\"\n",
    "\n",
    "    def __eq__(self, __value: object) -> bool:\n",
    "        return (self.text == __value.text) and (self.loc == __value.loc)\n",
    "\n",
    "    def __hash__(self) -> int:\n",
    "        return hash(F\"{self.text}&&{self.loc}\")\n",
    "\n",
    "\n",
    "def flatten_concatenation(matrix):\n",
    "    flat_list = []\n",
    "    for row in matrix:\n",
    "        flat_list += row\n",
    "    return flat_list\n",
    "\n",
    "\n",
    "def tokenize_all_stickers():\n",
    "\n",
    "    word_tokens = {}\n",
    "    for word in all_full_words:\n",
    "\n",
    "        r = group_letters(word)\n",
    "        word_tokens[word] = word_tokens.get(word, [])\n",
    "        word_tokens[word].append(r)\n",
    "\n",
    "    \"\"\"\n",
    "    {\n",
    "    ...,\n",
    "    'scream' : [[s,c,r,e,a,m],[s,c,r,e,am],...],\n",
    "    ...\n",
    "    }\n",
    "    \"\"\"\n",
    "\n",
    "    # this is just squeezing out  the 1-D first dimension\n",
    "    word_tokens = {word: lst[0] for word, lst in word_tokens.items()}\n",
    "\n",
    "    word_tokens = {word: [[Token(text, tokenization, i) for i, text in enumerate(\n",
    "        tokenization)] for tokenization in lst] for word, lst in word_tokens.items()}\n",
    "\n",
    "    word_tokens = {word: list(set(flatten_concatenation(lst_2d)))\n",
    "                   for word, lst_2d in word_tokens.items()}\n",
    "\n",
    "    return word_tokens\n",
    "\n",
    "\n",
    "def invert_dictionary(original_dict):\n",
    "    inverted_dict = {}\n",
    "    for key, lst in original_dict.items():\n",
    "\n",
    "        for element in lst:\n",
    "            if element not in inverted_dict:\n",
    "                inverted_dict[element] = [key]\n",
    "            else:\n",
    "                if key not in inverted_dict[element]:\n",
    "                    inverted_dict[element].append(key)\n",
    "\n",
    "    return inverted_dict\n",
    "\n",
    "\n",
    "def check_viability(prev_token, potential_next_token):\n",
    "    if potential_next_token.loc == Token.total:\n",
    "        return (\n",
    "            (prev_token.loc == Token.start) or\n",
    "            (prev_token.loc == Token.end) or\n",
    "            (prev_token.loc == Token.mid) or\n",
    "            (prev_token.loc == Token.total)\n",
    "        )\n",
    "    if potential_next_token.loc == Token.mid:\n",
    "        return (\n",
    "            (prev_token.loc == Token.end) or\n",
    "            (prev_token.loc == Token.total)\n",
    "        )\n",
    "    if potential_next_token.loc == Token.start:\n",
    "        return (\n",
    "            (prev_token.loc == Token.start) or\n",
    "            (prev_token.loc == Token.end) or\n",
    "            (prev_token.loc == Token.mid) or\n",
    "            (prev_token.loc == Token.total)\n",
    "        )\n",
    "    if potential_next_token.loc == Token.end:\n",
    "        return (\n",
    "            (prev_token.loc == Token.end) or\n",
    "            (prev_token.loc == Token.total)\n",
    "        )"
   ]
  },
  {
   "cell_type": "code",
   "execution_count": 27,
   "metadata": {},
   "outputs": [],
   "source": [
    "tokens_by_matched_full_word = tokenize_all_stickers()"
   ]
  },
  {
   "cell_type": "code",
   "execution_count": 28,
   "metadata": {},
   "outputs": [],
   "source": [
    "inverted_dict = invert_dictionary(tokens_by_matched_full_word)"
   ]
  },
  {
   "cell_type": "markdown",
   "metadata": {},
   "source": [
    "### Testing Inverted Dict\n"
   ]
  },
  {
   "cell_type": "code",
   "execution_count": 29,
   "metadata": {},
   "outputs": [
    {
     "data": {
      "text/plain": [
       "['fns', 'fnatic', 'fnx']"
      ]
     },
     "execution_count": 29,
     "metadata": {},
     "output_type": "execute_result"
    }
   ],
   "source": [
    "inverted_dict[Token(\"fn\", None, None, Token.start)]"
   ]
  },
  {
   "cell_type": "markdown",
   "metadata": {},
   "source": [
    "## Saving Inverted Dict and Stickers By Full Matched Word\n"
   ]
  },
  {
   "cell_type": "code",
   "execution_count": 30,
   "metadata": {},
   "outputs": [],
   "source": [
    "with open('stickers_by_matched_full_word.json','w') as f:\n",
    "    json.dump({key:value for key,value in stickers_by_matched_full_word.items()},f)\n",
    "    \n",
    "with open('sticker_ids_by_matched_full_word.json','w') as f:\n",
    "    json.dump({key:value for key,value in sticker_ids_by_matched_full_word.items()},f)\n",
    "\n",
    "with open('inverted_dict.json','w') as f:\n",
    "    json.dump({str(key):value for key,value in inverted_dict.items()},f)\n",
    "\n"
   ]
  },
  {
   "cell_type": "markdown",
   "metadata": {},
   "source": [
    "## Bulding Tokenizer Map from smaller files\n"
   ]
  },
  {
   "cell_type": "code",
   "execution_count": 31,
   "metadata": {},
   "outputs": [],
   "source": [
    "with open('stickers_by_matched_full_word.json','r') as f:\n",
    "    stickers_by_matched_full_word = json.load(f)\n",
    "with open('sticker_ids_by_matched_full_word.json','r') as f:\n",
    "    sticker_ids_by_matched_full_word = json.load(f)\n",
    "with open('inverted_dict.json','r') as f:\n",
    "    inverted_dict = json.load(f)"
   ]
  },
  {
   "cell_type": "code",
   "execution_count": 32,
   "metadata": {},
   "outputs": [],
   "source": [
    "from time import perf_counter\n",
    " "
   ]
  },
  {
   "cell_type": "code",
   "execution_count": 33,
   "metadata": {},
   "outputs": [
    {
     "name": "stdout",
     "output_type": "stream",
     "text": [
      "Elapsed time during the whole program in seconds: 0.006518399997730739\n"
     ]
    }
   ],
   "source": [
    "t1_start = perf_counter() \n",
    "tokenizer_map = {token: [sticker_ids_by_matched_full_word[i] for i in formatted_names]\n",
    "             for token, formatted_names in inverted_dict.items()}\n",
    "\n",
    "\n",
    "\n",
    "tokenizer_map = {key: flatten_concatenation(\n",
    "    value) for key, value in tokenizer_map.items()}\n",
    "t1_stop = perf_counter()\n",
    "print(\"Elapsed time during the whole program in seconds:\",\n",
    "                                        t1_stop-t1_start)"
   ]
  },
  {
   "cell_type": "code",
   "execution_count": 34,
   "metadata": {},
   "outputs": [
    {
     "data": {
      "text/plain": [
       "dict_keys(['<Token:END:7>', '<Token:TOTAL:n0rber7>', '<Token:START:n0>', '<Token:MID:0>', '<Token:START:n>', '<Token:END:er7>', '<Token:START:n0rber>', '<Token:MID:0r>', '<Token:END:rber7>', '<Token:MID:0rb>', '<Token:START:n0rbe>', '<Token:MID:0rbe>', '<Token:MID:rbe>', '<Token:MID:ber>', '<Token:START:n0rb>', '<Token:MID:er>', '<Token:MID:rber>', '<Token:END:r7>', '<Token:MID:b>', '<Token:END:ber7>', '<Token:MID:be>', '<Token:MID:r>', '<Token:MID:0rber>', '<Token:END:0rber7>', '<Token:MID:rb>', '<Token:START:n0r>', '<Token:MID:e>', '<Token:END:niac>', '<Token:MID:an>', '<Token:START:m>', '<Token:END:aniac>', '<Token:MID:i>', '<Token:TOTAL:maniac>', '<Token:MID:a>', '<Token:MID:ani>', '<Token:MID:ia>', '<Token:START:mani>', '<Token:MID:ania>', '<Token:MID:ni>', '<Token:START:ma>', '<Token:END:iac>', '<Token:MID:n>', '<Token:START:man>', '<Token:MID:nia>', '<Token:START:mania>', '<Token:END:c>', '<Token:END:ac>', '<Token:END:ile>', '<Token:MID:xil>', '<Token:START:axil>', '<Token:TOTAL:axile>', '<Token:START:a>', '<Token:END:e>', '<Token:START:ax>', '<Token:END:xile>', '<Token:MID:l>', '<Token:MID:xi>', '<Token:START:axi>', '<Token:MID:il>', '<Token:END:le>', '<Token:MID:x>', '<Token:START:nin>', '<Token:MID:in>', '<Token:TOTAL:nin9>', '<Token:END:in9>', '<Token:END:n9>', '<Token:START:ni>', '<Token:END:9>', '<Token:START:smooy>', '<Token:MID:mooy>', '<Token:START:s>', '<Token:MID:oy>', '<Token:END:a>', '<Token:MID:oo>', '<Token:END:ooya>', '<Token:END:oya>', '<Token:MID:ooy>', '<Token:END:ya>', '<Token:END:mooya>', '<Token:MID:y>', '<Token:MID:moo>', '<Token:MID:m>', '<Token:MID:mo>', '<Token:START:sm>', '<Token:START:smoo>', '<Token:START:smo>', '<Token:MID:o>', '<Token:TOTAL:smooya>', '<Token:START:aer>', '<Token:END:al>', '<Token:TOTAL:aerial>', '<Token:START:aeri>', '<Token:END:ial>', '<Token:END:erial>', '<Token:START:ae>', '<Token:END:rial>', '<Token:START:aeria>', '<Token:MID:ri>', '<Token:END:l>', '<Token:MID:eri>', '<Token:MID:ria>', '<Token:MID:eria>', '<Token:START:stewie2>', '<Token:MID:ew>', '<Token:END:k>', '<Token:MID:2>', '<Token:MID:ie>', '<Token:END:2k>', '<Token:MID:tewie2>', '<Token:MID:tewie>', '<Token:MID:ewie2>', '<Token:END:tewie2k>', '<Token:START:st>', '<Token:TOTAL:stewie2k>', '<Token:MID:wie>', '<Token:MID:t>', '<Token:MID:wie2>', '<Token:END:e2k>', '<Token:MID:ewi>', '<Token:START:stewi>', '<Token:MID:tew>', '<Token:START:stewie>', '<Token:END:ewie2k>', '<Token:MID:tewi>', '<Token:START:ste>', '<Token:MID:te>', '<Token:START:stew>', '<Token:END:wie2k>', '<Token:MID:wi>', '<Token:MID:w>', '<Token:END:ie2k>', '<Token:MID:ie2>', '<Token:MID:ewie>', '<Token:MID:e2>', '<Token:MID:s>', '<Token:END:atsi>', '<Token:END:si>', '<Token:END:i>', '<Token:START:p>', '<Token:MID:at>', '<Token:TOTAL:patsi>', '<Token:MID:ts>', '<Token:MID:ats>', '<Token:START:pa>', '<Token:START:pat>', '<Token:END:tsi>', '<Token:START:pats>', '<Token:MID:c>', '<Token:END:ackz>', '<Token:MID:ac>', '<Token:START:j>', '<Token:TOTAL:jackz>', '<Token:MID:ck>', '<Token:MID:ack>', '<Token:START:jack>', '<Token:END:z>', '<Token:END:ckz>', '<Token:START:jac>', '<Token:START:ja>', '<Token:MID:k>', '<Token:END:kz>', '<Token:TOTAL:fashr>', '<Token:MID:sh>', '<Token:END:ashr>', '<Token:START:f>', '<Token:MID:as>', '<Token:START:fash>', '<Token:MID:h>', '<Token:MID:ash>', '<Token:END:r>', '<Token:END:hr>', '<Token:START:fa>', '<Token:START:fas>', '<Token:END:shr>', '<Token:MID:ich>', '<Token:END:ichu>', '<Token:TOTAL:michu>', '<Token:END:hu>', '<Token:END:u>', '<Token:MID:ch>', '<Token:START:mic>', '<Token:MID:ic>', '<Token:END:chu>', '<Token:START:mi>', '<Token:START:mich>', '<Token:TOTAL:n>', '<Token:MID:of>', '<Token:MID:fessor_chao>', '<Token:MID:ofessor_ch>', '<Token:END:fessor_chaos>', '<Token:END:ssor_chaos>', '<Token:MID:ess>', '<Token:MID:ha>', '<Token:MID:essor_>', '<Token:MID:ofesso>', '<Token:MID:essor_ch>', '<Token:MID:r_chao>', '<Token:START:profe>', '<Token:MID:or>', '<Token:MID:fessor>', '<Token:MID:sor_ch>', '<Token:MID:fes>', '<Token:START:pro>', '<Token:MID:sor_cha>', '<Token:END:essor_chaos>', '<Token:MID:rofessor_cha>', '<Token:MID:ofess>', '<Token:MID:fessor_>', '<Token:END:ofessor_chaos>', '<Token:MID:_>', '<Token:MID:ofessor_>', '<Token:END:sor_chaos>', '<Token:MID:ssor_c>', '<Token:TOTAL:professor_chaos>', '<Token:MID:es>', '<Token:MID:fesso>', '<Token:MID:_cha>', '<Token:END:rofessor_chaos>', '<Token:MID:ssor_>', '<Token:MID:ofessor_chao>', '<Token:MID:rofes>', '<Token:MID:ssor_cha>', '<Token:MID:essor_c>', '<Token:MID:ao>', '<Token:MID:fessor_ch>', '<Token:MID:rofessor_>', '<Token:MID:essor>', '<Token:MID:rofessor>', '<Token:MID:rofessor_ch>', '<Token:END:aos>', '<Token:MID:sor_>', '<Token:MID:so>', '<Token:MID:_chao>', '<Token:MID:or_ch>', '<Token:END:os>', '<Token:MID:rofessor_c>', '<Token:END:s>', '<Token:END:haos>', '<Token:MID:chao>', '<Token:MID:cha>', '<Token:START:professor_c>', '<Token:MID:_ch>', '<Token:START:professor>', '<Token:START:pr>', '<Token:MID:rofess>', '<Token:MID:rofe>', '<Token:END:chaos>', '<Token:START:professor_>', '<Token:MID:r_cha>', '<Token:MID:ssor_ch>', '<Token:MID:essor_chao>', '<Token:MID:r_>', '<Token:MID:ofessor_cha>', '<Token:START:prof>', '<Token:MID:hao>', '<Token:MID:ofessor>', '<Token:START:profess>', '<Token:MID:sor>', '<Token:MID:rofessor_chao>', '<Token:MID:_c>', '<Token:MID:rofesso>', '<Token:MID:ssor_chao>', '<Token:START:professo>', '<Token:MID:or_cha>', '<Token:MID:r_ch>', '<Token:MID:ofe>', '<Token:MID:or_>', '<Token:MID:or_c>', '<Token:END:r_chaos>', '<Token:MID:fessor_cha>', '<Token:MID:rof>', '<Token:MID:fe>', '<Token:START:professor_chao>', '<Token:MID:esso>', '<Token:MID:essor_cha>', '<Token:MID:fess>', '<Token:START:professor_ch>', '<Token:START:professor_cha>', '<Token:MID:ofes>', '<Token:END:or_chaos>', '<Token:MID:sor_c>', '<Token:MID:ofessor_c>', '<Token:MID:r_c>', '<Token:MID:f>', '<Token:START:profes>', '<Token:END:_chaos>', '<Token:MID:or_chao>', '<Token:MID:sso>', '<Token:MID:ssor>', '<Token:MID:ss>', '<Token:MID:sor_chao>', '<Token:MID:ro>', '<Token:MID:fessor_c>', '<Token:MID:pre>', '<Token:MID:u>', '<Token:MID:p>', '<Token:MID:pree>', '<Token:MID:ee>', '<Token:END:eh>', '<Token:MID:upre>', '<Token:MID:upr>', '<Token:START:d>', '<Token:END:reeh>', '<Token:TOTAL:dupreeh>', '<Token:START:dupre>', '<Token:END:upreeh>', '<Token:MID:upree>', '<Token:START:du>', '<Token:END:preeh>', '<Token:START:dupr>', '<Token:MID:re>', '<Token:MID:up>', '<Token:START:dup>', '<Token:MID:ree>', '<Token:MID:pr>', '<Token:END:eeh>', '<Token:START:dupree>', '<Token:END:h>', '<Token:MID:ge>', '<Token:START:ange>', '<Token:TOTAL:angei>', '<Token:END:ei>', '<Token:MID:nge>', '<Token:MID:ng>', '<Token:START:an>', '<Token:END:ngei>', '<Token:START:ang>', '<Token:END:gei>', '<Token:MID:g>', '<Token:MID:ze>', '<Token:MID:roze>', '<Token:END:en>', '<Token:START:fro>', '<Token:END:rozen>', '<Token:START:fr>', '<Token:MID:oz>', '<Token:MID:roz>', '<Token:START:froz>', '<Token:END:ozen>', '<Token:END:zen>', '<Token:END:n>', '<Token:MID:oze>', '<Token:MID:z>', '<Token:TOTAL:frozen>', '<Token:START:froze>', '<Token:MID:owi>', '<Token:MID:atowi>', '<Token:START:katowic>', '<Token:END:towice>', '<Token:START:kato>', '<Token:END:owice>', '<Token:MID:to>', '<Token:END:ice>', '<Token:MID:wic>', '<Token:TOTAL:katowice>', '<Token:START:katowi>', '<Token:MID:atow>', '<Token:END:wice>', '<Token:MID:towi>', '<Token:MID:towic>', '<Token:START:katow>', '<Token:START:k>', '<Token:START:ka>', '<Token:MID:atowic>', '<Token:MID:ow>', '<Token:END:atowice>', '<Token:MID:ato>', '<Token:MID:owic>', '<Token:MID:tow>', '<Token:END:ce>', '<Token:START:kat>', '<Token:START:pit>', '<Token:END:ta>', '<Token:TOTAL:pita>', '<Token:END:ita>', '<Token:MID:it>', '<Token:START:pi>', '<Token:END:asi>', '<Token:END:ucasi>', '<Token:END:casi>', '<Token:START:lucas>', '<Token:START:luc>', '<Token:MID:ucas>', '<Token:MID:cas>', '<Token:START:lu>', '<Token:TOTAL:lucasi>', '<Token:MID:uc>', '<Token:MID:ca>', '<Token:START:l>', '<Token:MID:uca>', '<Token:START:luca>', '<Token:MID:if>', '<Token:END:ifty>', '<Token:MID:ift>', '<Token:END:fty>', '<Token:START:nif>', '<Token:TOTAL:nifty>', '<Token:MID:ft>', '<Token:END:ty>', '<Token:END:y>', '<Token:START:nift>', '<Token:START:r>', '<Token:END:ubino>', '<Token:END:ino>', '<Token:MID:ubin>', '<Token:END:no>', '<Token:MID:bi>', '<Token:MID:bin>', '<Token:END:o>', '<Token:START:ru>', '<Token:MID:ubi>', '<Token:END:bino>', '<Token:TOTAL:rubino>', '<Token:START:rub>', '<Token:START:rubi>', '<Token:MID:ub>', '<Token:START:rubin>', '<Token:MID:am>', '<Token:TOTAL:fame>', '<Token:START:fam>', '<Token:END:ame>', '<Token:END:me>', '<Token:MID:url>', '<Token:START:furla>', '<Token:TOTAL:furlan>', '<Token:MID:rla>', '<Token:MID:rl>', '<Token:START:fur>', '<Token:END:lan>', '<Token:END:urlan>', '<Token:MID:la>', '<Token:START:fu>', '<Token:MID:urla>', '<Token:END:an>', '<Token:MID:ur>', '<Token:START:furl>', '<Token:END:rlan>', '<Token:MID:ot>', '<Token:END:ota>', '<Token:TOTAL:jota>', '<Token:START:jo>', '<Token:START:jot>', '<Token:END:omplexity>', '<Token:MID:mplexi>', '<Token:MID:ex>', '<Token:MID:lexi>', '<Token:END:exity>', '<Token:START:c>', '<Token:END:mplexity>', '<Token:MID:omplex>', '<Token:MID:lex>', '<Token:MID:ple>', '<Token:START:complexit>', '<Token:MID:mp>', '<Token:MID:exi>', '<Token:MID:omp>', '<Token:START:com>', '<Token:MID:mplex>', '<Token:MID:mpl>', '<Token:END:plexity>', '<Token:MID:ompl>', '<Token:MID:pl>', '<Token:MID:mple>', '<Token:START:complexi>', '<Token:START:comp>', '<Token:END:lexity>', '<Token:MID:mplexit>', '<Token:TOTAL:complexity>', '<Token:END:xity>', '<Token:END:ity>', '<Token:MID:le>', '<Token:START:compl>', '<Token:MID:omple>', '<Token:MID:plexi>', '<Token:MID:plexit>', '<Token:MID:omplexit>', '<Token:START:comple>', '<Token:MID:lexit>', '<Token:MID:xit>', '<Token:MID:om>', '<Token:MID:omplexi>', '<Token:START:complex>', '<Token:MID:plex>', '<Token:START:co>', '<Token:MID:exit>', '<Token:MID:vei>', '<Token:TOTAL:moveit>', '<Token:END:it>', '<Token:START:movei>', '<Token:MID:ve>', '<Token:START:move>', '<Token:END:eit>', '<Token:MID:ov>', '<Token:MID:ovei>', '<Token:START:mov>', '<Token:START:mo>', '<Token:END:oveit>', '<Token:MID:v>', '<Token:END:veit>', '<Token:MID:ei>', '<Token:MID:ove>', '<Token:END:t>', '<Token:START:summe>', '<Token:MID:umme>', '<Token:START:su>', '<Token:TOTAL:summer>', '<Token:MID:me>', '<Token:MID:mm>', '<Token:END:mmer>', '<Token:END:mer>', '<Token:MID:um>', '<Token:END:ummer>', '<Token:END:er>', '<Token:START:sum>', '<Token:START:summ>', '<Token:MID:mme>', '<Token:MID:umm>', '<Token:END:ensi>', '<Token:START:kens>', '<Token:MID:ns>', '<Token:START:ke>', '<Token:END:nsi>', '<Token:START:ken>', '<Token:TOTAL:kensi>', '<Token:MID:ens>', '<Token:MID:en>', '<Token:END:0rick>', '<Token:MID:0ri>', '<Token:TOTAL:t0rick>', '<Token:MID:0ric>', '<Token:END:rick>', '<Token:START:t0>', '<Token:START:t0ri>', '<Token:MID:ric>', '<Token:START:t>', '<Token:START:t0r>', '<Token:END:ick>', '<Token:END:ck>', '<Token:START:t0ric>', '<Token:END:ku>', '<Token:END:iku>', '<Token:START:fi>', '<Token:TOTAL:fiku>', '<Token:START:fik>', '<Token:MID:ik>', '<Token:START:dav>', '<Token:END:ost>', '<Token:TOTAL:davcost>', '<Token:MID:av>', '<Token:MID:avc>', '<Token:MID:vco>', '<Token:MID:co>', '<Token:END:st>', '<Token:MID:avcos>', '<Token:MID:vc>', '<Token:END:vcost>', '<Token:END:cost>', '<Token:MID:vcos>', '<Token:START:davc>', '<Token:START:davcos>', '<Token:MID:avco>', '<Token:MID:cos>', '<Token:START:da>', '<Token:MID:os>', '<Token:START:davco>', '<Token:END:avcost>', '<Token:END:alfey>', '<Token:START:shal>', '<Token:MID:lf>', '<Token:START:shalfe>', '<Token:END:fey>', '<Token:END:lfey>', '<Token:MID:halfe>', '<Token:END:ey>', '<Token:TOTAL:shalfey>', '<Token:START:shalf>', '<Token:START:sh>', '<Token:MID:half>', '<Token:MID:lfe>', '<Token:MID:al>', '<Token:MID:alf>', '<Token:MID:hal>', '<Token:START:sha>', '<Token:END:halfey>', '<Token:MID:alfe>', '<Token:MID:ku>', '<Token:END:kullz>', '<Token:MID:kul>', '<Token:START:sku>', '<Token:START:skull>', '<Token:TOTAL:skullz>', '<Token:START:sk>', '<Token:END:lz>', '<Token:MID:ul>', '<Token:MID:ll>', '<Token:MID:ull>', '<Token:MID:kull>', '<Token:START:skul>', '<Token:END:llz>', '<Token:END:ullz>', '<Token:START:jdm6>', '<Token:END:4>', '<Token:MID:dm6>', '<Token:START:jdm>', '<Token:TOTAL:jdm64>', '<Token:START:jd>', '<Token:END:m64>', '<Token:MID:dm>', '<Token:MID:m6>', '<Token:MID:6>', '<Token:END:dm64>', '<Token:MID:d>', '<Token:END:64>', '<Token:START:bi>', '<Token:TOTAL:bit>', '<Token:START:b>', '<Token:MID:o2>', '<Token:TOTAL:woro2k>', '<Token:START:w>', '<Token:MID:ro2>', '<Token:END:ro2k>', '<Token:START:woro2>', '<Token:MID:oro2>', '<Token:START:wo>', '<Token:MID:oro>', '<Token:END:oro2k>', '<Token:START:wor>', '<Token:START:woro>', '<Token:END:o2k>', '<Token:END:ing>', '<Token:MID:erl>', '<Token:END:ling>', '<Token:MID:ter>', '<Token:START:sterli>', '<Token:START:sterl>', '<Token:MID:lin>', '<Token:MID:rli>', '<Token:MID:terlin>', '<Token:MID:li>', '<Token:START:ster>', '<Token:END:ng>', '<Token:END:erling>', '<Token:END:terling>', '<Token:END:rling>', '<Token:MID:terl>', '<Token:MID:rlin>', '<Token:TOTAL:sterling>', '<Token:MID:erli>', '<Token:MID:terli>', '<Token:END:g>', '<Token:MID:erlin>', '<Token:START:sterlin>', '<Token:START:issa>', '<Token:START:iss>', '<Token:END:ssaa>', '<Token:END:saa>', '<Token:MID:sa>', '<Token:END:aa>', '<Token:MID:ssa>', '<Token:START:is>', '<Token:TOTAL:issaa>', '<Token:START:i>', '<Token:START:m0>', '<Token:TOTAL:m0nesy>', '<Token:MID:ne>', '<Token:START:m0nes>', '<Token:START:m0ne>', '<Token:MID:0nes>', '<Token:START:m0n>', '<Token:MID:0n>', '<Token:MID:nes>', '<Token:MID:0ne>', '<Token:END:0nesy>', '<Token:END:sy>', '<Token:END:esy>', '<Token:END:nesy>', '<Token:MID:on>', '<Token:MID:na>', '<Token:START:prona>', '<Token:MID:ona>', '<Token:TOTAL:pronax>', '<Token:END:ronax>', '<Token:START:pron>', '<Token:END:onax>', '<Token:END:x>', '<Token:END:nax>', '<Token:END:ax>', '<Token:MID:ron>', '<Token:MID:rona>', '<Token:START:h>', '<Token:END:oc>', '<Token:END:voc>', '<Token:START:hav>', '<Token:END:avoc>', '<Token:MID:vo>', '<Token:TOTAL:havoc>', '<Token:START:havo>', '<Token:MID:avo>', '<Token:START:ha>', '<Token:MID:ry>', '<Token:END:stal>', '<Token:MID:st>', '<Token:MID:ryst>', '<Token:MID:rys>', '<Token:MID:ysta>', '<Token:END:rystal>', '<Token:MID:ys>', '<Token:START:krys>', '<Token:MID:yst>', '<Token:START:kr>', '<Token:MID:ta>', '<Token:START:krysta>', '<Token:START:kry>', '<Token:MID:sta>', '<Token:END:tal>', '<Token:START:kryst>', '<Token:TOTAL:krystal>', '<Token:END:ystal>', '<Token:MID:rysta>', '<Token:MID:oni>', '<Token:START:electr>', '<Token:START:electron>', '<Token:START:ele>', '<Token:START:elect>', '<Token:MID:tron>', '<Token:MID:lect>', '<Token:MID:ec>', '<Token:END:ectronic>', '<Token:MID:ctron>', '<Token:MID:ectro>', '<Token:START:e>', '<Token:MID:ct>', '<Token:MID:troni>', '<Token:MID:ectr>', '<Token:MID:ectron>', '<Token:MID:lec>', '<Token:MID:ctroni>', '<Token:END:onic>', '<Token:END:nic>', '<Token:MID:ctro>', '<Token:END:ronic>', '<Token:MID:ectroni>', '<Token:END:ctronic>', '<Token:MID:lectro>', '<Token:START:electroni>', '<Token:END:ic>', '<Token:START:el>', '<Token:START:electro>', '<Token:TOTAL:electronic>', '<Token:MID:tr>', '<Token:MID:roni>', '<Token:MID:ect>', '<Token:MID:lectroni>', '<Token:MID:lectr>', '<Token:END:lectronic>', '<Token:MID:ctr>', '<Token:MID:lectron>', '<Token:END:tronic>', '<Token:START:elec>', '<Token:MID:tro>', '<Token:MID:uri>', '<Token:START:yuu>', '<Token:START:y>', '<Token:TOTAL:yuurih>', '<Token:END:ih>', '<Token:END:rih>', '<Token:START:yu>', '<Token:MID:uu>', '<Token:START:yuur>', '<Token:MID:uuri>', '<Token:END:uurih>', '<Token:END:urih>', '<Token:MID:uur>', '<Token:START:yuuri>', '<Token:MID:ahza>', '<Token:END:m>', '<Token:MID:hz>', '<Token:END:hahzam>', '<Token:START:shahza>', '<Token:END:ahzam>', '<Token:START:shahz>', '<Token:TOTAL:shahzam>', '<Token:START:shah>', '<Token:MID:hah>', '<Token:MID:ahz>', '<Token:MID:za>', '<Token:END:am>', '<Token:END:zam>', '<Token:MID:hahza>', '<Token:END:hzam>', '<Token:MID:ah>', '<Token:MID:hahz>', '<Token:MID:hza>', '<Token:END:mqa>', '<Token:START:jmq>', '<Token:MID:mq>', '<Token:TOTAL:jmqa>', '<Token:START:jm>', '<Token:MID:q>', '<Token:END:qa>', '<Token:TOTAL:sico>', '<Token:END:co>', '<Token:START:sic>', '<Token:START:si>', '<Token:END:ico>', '<Token:START:maikel>', '<Token:MID:aik>', '<Token:MID:ai>', '<Token:END:lele>', '<Token:MID:ikele>', '<Token:MID:kelel>', '<Token:MID:ike>', '<Token:END:kelele>', '<Token:MID:kel>', '<Token:END:aikelele>', '<Token:MID:lel>', '<Token:MID:elel>', '<Token:MID:kele>', '<Token:START:maike>', '<Token:MID:el>', '<Token:TOTAL:maikelele>', '<Token:MID:ikel>', '<Token:START:maikelel>', '<Token:MID:ikelel>', '<Token:START:mai>', '<Token:MID:ke>', '<Token:END:ele>', '<Token:MID:aikele>', '<Token:END:ikelele>', '<Token:MID:aikel>', '<Token:MID:ele>', '<Token:MID:aikelel>', '<Token:START:maikele>', '<Token:MID:aike>', '<Token:END:elele>', '<Token:START:maik>', '<Token:END:d7>', '<Token:MID:ood>', '<Token:MID:od>', '<Token:END:ood7>', '<Token:END:od7>', '<Token:START:wood>', '<Token:START:woo>', '<Token:TOTAL:wood7>', '<Token:START:histo>', '<Token:MID:is>', '<Token:START:hi>', '<Token:START:hist>', '<Token:MID:ist>', '<Token:END:ry>', '<Token:START:histor>', '<Token:END:story>', '<Token:MID:stor>', '<Token:MID:sto>', '<Token:END:tory>', '<Token:END:istory>', '<Token:END:ory>', '<Token:TOTAL:history>', '<Token:MID:istor>', '<Token:MID:isto>', '<Token:START:his>', '<Token:MID:tor>', '<Token:MID:mb>', '<Token:END:rimbo>', '<Token:MID:im>', '<Token:TOTAL:krimbo>', '<Token:MID:imb>', '<Token:START:kri>', '<Token:MID:rim>', '<Token:START:krim>', '<Token:START:krimb>', '<Token:MID:rimb>', '<Token:END:mbo>', '<Token:END:imbo>', '<Token:END:bo>', '<Token:MID:ez>', '<Token:END:ezii>', '<Token:TOTAL:mezii>', '<Token:END:zii>', '<Token:START:mez>', '<Token:START:mezi>', '<Token:MID:ezi>', '<Token:MID:zi>', '<Token:END:ii>', '<Token:START:me>', '<Token:MID:ea>', '<Token:START:neal>', '<Token:START:ne>', '<Token:START:neala>', '<Token:TOTAL:nealan>', '<Token:START:nea>', '<Token:MID:eal>', '<Token:MID:ala>', '<Token:MID:eala>', '<Token:END:alan>', '<Token:END:ealan>', '<Token:END:eus>', '<Token:START:ze>', '<Token:MID:eu>', '<Token:END:us>', '<Token:START:zeu>', '<Token:TOTAL:zeus>', '<Token:START:z>', '<Token:TOTAL:fx>', '<Token:START:sanj>', '<Token:START:san>', '<Token:END:ji>', '<Token:MID:nj>', '<Token:TOTAL:sanji>', '<Token:END:anji>', '<Token:END:nji>', '<Token:MID:j>', '<Token:START:sa>', '<Token:MID:anj>', '<Token:END:sutaaa>', '<Token:START:misu>', '<Token:MID:ut>', '<Token:MID:taa>', '<Token:END:aaa>', '<Token:MID:sut>', '<Token:MID:sutaa>', '<Token:END:isutaaa>', '<Token:MID:suta>', '<Token:MID:aa>', '<Token:START:misuta>', '<Token:START:misutaa>', '<Token:MID:isuta>', '<Token:END:taaa>', '<Token:MID:isutaa>', '<Token:TOTAL:misutaaa>', '<Token:MID:uta>', '<Token:MID:isu>', '<Token:MID:su>', '<Token:END:utaaa>', '<Token:MID:utaa>', '<Token:MID:isut>', '<Token:START:mis>', '<Token:START:misut>', '<Token:START:f0r>', '<Token:START:f0res>', '<Token:END:rest>', '<Token:MID:0re>', '<Token:TOTAL:f0rest>', '<Token:END:est>', '<Token:MID:0res>', '<Token:START:f0re>', '<Token:START:f0>', '<Token:END:0rest>', '<Token:MID:res>', '<Token:END:nz>', '<Token:TOTAL:lnz>', '<Token:START:ln>', '<Token:TOTAL:im>', '<Token:START:g>', '<Token:END:xx->', '<Token:END:->', '<Token:START:gx>', '<Token:END:x->', '<Token:START:gxx>', '<Token:MID:xx>', '<Token:TOTAL:gxx->', '<Token:END:ns>', '<Token:START:fn>', '<Token:TOTAL:fns>', '<Token:END:yloo>', '<Token:END:loo>', '<Token:END:oo>', '<Token:MID:yl>', '<Token:MID:ylo>', '<Token:START:tylo>', '<Token:TOTAL:tyloo>', '<Token:START:ty>', '<Token:MID:lo>', '<Token:START:tyl>', '<Token:MID:ka>', '<Token:TOTAL:oskar>', '<Token:START:osk>', '<Token:START:o>', '<Token:START:oska>', '<Token:MID:ska>', '<Token:END:ar>', '<Token:END:kar>', '<Token:MID:sk>', '<Token:START:os>', '<Token:END:skar>', '<Token:END:ung>', '<Token:MID:meyo>', '<Token:MID:meyoun>', '<Token:START:someyou>', '<Token:START:somey>', '<Token:MID:eyoun>', '<Token:MID:youn>', '<Token:MID:un>', '<Token:START:some>', '<Token:MID:eyou>', '<Token:MID:eyo>', '<Token:MID:mey>', '<Token:END:meyoung>', '<Token:MID:ome>', '<Token:MID:oun>', '<Token:MID:meyou>', '<Token:START:someyo>', '<Token:END:oung>', '<Token:MID:omeyoun>', '<Token:TOTAL:someyoung>', '<Token:END:young>', '<Token:END:omeyoung>', '<Token:MID:omey>', '<Token:MID:yo>', '<Token:START:som>', '<Token:END:eyoung>', '<Token:START:so>', '<Token:MID:omeyou>', '<Token:MID:you>', '<Token:MID:ey>', '<Token:MID:ou>', '<Token:MID:omeyo>', '<Token:START:someyoun>', '<Token:END:lamef>', '<Token:TOTAL:blamef>', '<Token:START:bl>', '<Token:END:f>', '<Token:MID:lame>', '<Token:END:ef>', '<Token:END:mef>', '<Token:END:amef>', '<Token:MID:ame>', '<Token:MID:lam>', '<Token:START:bla>', '<Token:START:blam>', '<Token:START:blame>', '<Token:TOTAL:fer>', '<Token:START:fe>', '<Token:MID:orld>', '<Token:MID:orlded>', '<Token:END:rldedit>', '<Token:MID:de>', '<Token:MID:rld>', '<Token:START:worl>', '<Token:MID:lde>', '<Token:END:edit>', '<Token:MID:orldedi>', '<Token:END:ldedit>', '<Token:MID:edi>', '<Token:MID:ded>', '<Token:MID:lded>', '<Token:START:worldedi>', '<Token:END:orldedit>', '<Token:MID:ldedi>', '<Token:MID:rlded>', '<Token:END:dedit>', '<Token:MID:ld>', '<Token:START:world>', '<Token:TOTAL:worldedit>', '<Token:MID:ed>', '<Token:MID:orl>', '<Token:MID:rlde>', '<Token:MID:rldedi>', '<Token:START:worlde>', '<Token:MID:di>', '<Token:END:dit>', '<Token:MID:orlde>', '<Token:MID:dedi>', '<Token:START:worlded>', '<Token:END:gle>', '<Token:MID:ag>', '<Token:START:dea>', '<Token:START:deag>', '<Token:TOTAL:deagle>', '<Token:MID:agl>', '<Token:MID:gl>', '<Token:START:de>', '<Token:MID:eag>', '<Token:START:deagl>', '<Token:MID:eagl>', '<Token:END:eagle>', '<Token:END:agle>', '<Token:START:se>', '<Token:START:ser>', '<Token:MID:erge>', '<Token:MID:rg>', '<Token:END:ergej>', '<Token:START:serg>', '<Token:START:serge>', '<Token:END:gej>', '<Token:END:rgej>', '<Token:MID:erg>', '<Token:END:j>', '<Token:END:ej>', '<Token:TOTAL:sergej>', '<Token:MID:rge>', '<Token:TOTAL:jr>', '<Token:END:eses>', '<Token:MID:se>', '<Token:END:ses>', '<Token:MID:ese>', '<Token:TOTAL:teses>', '<Token:START:tese>', '<Token:START:te>', '<Token:START:tes>', '<Token:END:es>', '<Token:END:0t>', '<Token:START:1>', '<Token:START:10>', '<Token:END:00t>', '<Token:MID:00>', '<Token:TOTAL:100t>', '<Token:START:100>', '<Token:START:stani>', '<Token:END:islaw>', '<Token:MID:sla>', '<Token:END:anislaw>', '<Token:MID:tanis>', '<Token:MID:tanisla>', '<Token:END:tanislaw>', '<Token:MID:isl>', '<Token:MID:tani>', '<Token:END:nislaw>', '<Token:MID:nis>', '<Token:START:stanisl>', '<Token:START:sta>', '<Token:END:law>', '<Token:MID:anisl>', '<Token:MID:isla>', '<Token:MID:sl>', '<Token:MID:nisl>', '<Token:MID:nisla>', '<Token:TOTAL:stanislaw>', '<Token:END:slaw>', '<Token:MID:anis>', '<Token:END:aw>', '<Token:MID:anisla>', '<Token:START:stanisla>', '<Token:MID:tan>', '<Token:START:stanis>', '<Token:END:w>', '<Token:MID:tanisl>', '<Token:START:stan>', '<Token:END:ara>', '<Token:MID:ar>', '<Token:MID:har>', '<Token:END:hara>', '<Token:START:shar>', '<Token:TOTAL:shara>', '<Token:END:ra>', '<Token:START:for>', '<Token:END:ze>', '<Token:END:orze>', '<Token:TOTAL:forze>', '<Token:END:rze>', '<Token:MID:rz>', '<Token:MID:orz>', '<Token:START:forz>', '<Token:START:fo>', '<Token:MID:evic>', '<Token:END:evice>', '<Token:START:devi>', '<Token:START:dev>', '<Token:END:vice>', '<Token:MID:vic>', '<Token:START:devic>', '<Token:MID:evi>', '<Token:MID:vi>', '<Token:MID:ev>', '<Token:TOTAL:device>', '<Token:END:hn>', '<Token:START:zeh>', '<Token:END:ehn>', '<Token:TOTAL:zehn>', '<Token:MID:eh>', '<Token:TOTAL:og>', '<Token:MID:zer>', '<Token:START:coldz>', '<Token:END:ldzera>', '<Token:START:cold>', '<Token:END:oldzera>', '<Token:MID:ldze>', '<Token:MID:dzer>', '<Token:MID:old>', '<Token:END:era>', '<Token:MID:dze>', '<Token:END:dzera>', '<Token:MID:ldz>', '<Token:START:col>', '<Token:MID:oldz>', '<Token:MID:oldze>', '<Token:END:zera>', '<Token:START:coldzer>', '<Token:MID:oldzer>', '<Token:MID:ol>', '<Token:MID:ldzer>', '<Token:START:coldze>', '<Token:TOTAL:coldzera>', '<Token:MID:dz>', '<Token:MID:erfe>', '<Token:START:perfec>', '<Token:MID:erfect>', '<Token:END:ecto>', '<Token:MID:rf>', '<Token:START:pe>', '<Token:MID:fec>', '<Token:MID:fect>', '<Token:TOTAL:perfecto>', '<Token:START:perf>', '<Token:MID:rfec>', '<Token:END:rfecto>', '<Token:MID:erf>', '<Token:END:fecto>', '<Token:START:perfe>', '<Token:MID:erfec>', '<Token:START:per>', '<Token:END:to>', '<Token:END:erfecto>', '<Token:END:cto>', '<Token:START:perfect>', '<Token:MID:rfect>', '<Token:MID:rfe>', '<Token:END:is>', '<Token:TOTAL:denis>', '<Token:MID:eni>', '<Token:START:deni>', '<Token:END:nis>', '<Token:END:enis>', '<Token:START:den>', '<Token:MID:alt>', '<Token:TOTAL:salty>', '<Token:START:salt>', '<Token:END:alty>', '<Token:END:lty>', '<Token:START:sal>', '<Token:MID:lt>', '<Token:START:kar>', '<Token:START:kars>', '<Token:END:rsa>', '<Token:MID:ars>', '<Token:TOTAL:karsa>', '<Token:END:sa>', '<Token:END:arsa>', '<Token:MID:rs>', '<Token:MID:oma>', '<Token:START:thoma>', '<Token:START:tho>', '<Token:END:homas>', '<Token:MID:hom>', '<Token:START:th>', '<Token:TOTAL:thomas>', '<Token:END:omas>', '<Token:MID:ma>', '<Token:START:thom>', '<Token:MID:homa>', '<Token:END:mas>', '<Token:END:as>', '<Token:MID:ho>', '<Token:END:bit>', '<Token:MID:ob>', '<Token:START:hob>', '<Token:START:ho>', '<Token:MID:obb>', '<Token:MID:obbi>', '<Token:MID:bb>', '<Token:TOTAL:hobbit>', '<Token:END:bbit>', '<Token:END:obbit>', '<Token:START:hobb>', '<Token:START:hobbi>', '<Token:MID:bbi>', '<Token:MID:all>', '<Token:MID:rfal>', '<Token:START:water>', '<Token:MID:aterf>', '<Token:MID:aterfall>', '<Token:MID:terf>', '<Token:MID:rfa>', '<Token:TOTAL:waterfallz>', '<Token:MID:rfall>', '<Token:MID:ater>', '<Token:MID:fall>', '<Token:MID:aterfa>', '<Token:START:wat>', '<Token:MID:erfall>', '<Token:END:erfallz>', '<Token:START:wa>', '<Token:START:waterfall>', '<Token:END:fallz>', '<Token:START:waterfa>', '<Token:MID:fa>', '<Token:START:waterfal>', '<Token:MID:erfa>', '<Token:END:rfallz>', '<Token:MID:erfal>', '<Token:END:aterfallz>', '<Token:MID:terfal>', '<Token:MID:ate>', '<Token:MID:terfa>', '<Token:END:terfallz>', '<Token:START:wate>', '<Token:END:allz>', '<Token:MID:terfall>', '<Token:START:waterf>', '<Token:MID:fal>', '<Token:MID:aterfal>', '<Token:START:ng>', '<Token:MID:gi>', '<Token:END:gin>', '<Token:TOTAL:ngin>', '<Token:END:in>', '<Token:START:ngi>', '<Token:MID:lanm>', '<Token:TOTAL:clanmystik>', '<Token:MID:lanmysti>', '<Token:MID:nm>', '<Token:MID:anmysti>', '<Token:END:lanmystik>', '<Token:START:clanm>', '<Token:MID:nmyst>', '<Token:END:ik>', '<Token:MID:ti>', '<Token:MID:mysti>', '<Token:MID:nmy>', '<Token:MID:lanmyst>', '<Token:START:cla>', '<Token:END:anmystik>', '<Token:MID:mys>', '<Token:MID:anmyst>', '<Token:START:clanmy>', '<Token:END:mystik>', '<Token:START:clan>', '<Token:MID:lan>', '<Token:START:cl>', '<Token:START:clanmyst>', '<Token:MID:myst>', '<Token:START:clanmys>', '<Token:END:tik>', '<Token:MID:sti>', '<Token:END:stik>', '<Token:MID:nmysti>', '<Token:MID:ysti>', '<Token:START:clanmysti>', '<Token:MID:anm>', '<Token:MID:my>', '<Token:MID:lanmys>', '<Token:MID:lanmy>', '<Token:END:nmystik>', '<Token:MID:nmys>', '<Token:MID:anmy>', '<Token:MID:anmys>', '<Token:END:ystik>', '<Token:MID:oodo>', '<Token:MID:icoodo>', '<Token:END:coodoz>', '<Token:MID:icood>', '<Token:END:oz>', '<Token:END:odoz>', '<Token:MID:coodo>', '<Token:START:nico>', '<Token:TOTAL:nicoodoz>', '<Token:MID:odo>', '<Token:MID:do>', '<Token:START:nicoo>', '<Token:START:nic>', '<Token:MID:icoo>', '<Token:START:nicood>', '<Token:END:doz>', '<Token:END:oodoz>', '<Token:START:nicoodo>', '<Token:MID:ico>', '<Token:END:icoodoz>', '<Token:MID:cood>', '<Token:MID:coo>', '<Token:MID:jd>', '<Token:END:jder>', '<Token:START:znajd>', '<Token:MID:najde>', '<Token:MID:jde>', '<Token:MID:najd>', '<Token:START:zna>', '<Token:END:ajder>', '<Token:START:znaj>', '<Token:MID:ajd>', '<Token:MID:ajde>', '<Token:TOTAL:znajder>', '<Token:START:znajde>', '<Token:END:najder>', '<Token:MID:aj>', '<Token:START:zn>', '<Token:MID:naj>', '<Token:END:der>', '<Token:START:dim>', '<Token:TOTAL:dima>', '<Token:START:di>', '<Token:END:ima>', '<Token:END:ma>', '<Token:MID:ert>', '<Token:MID:rt>', '<Token:END:rtz>', '<Token:END:tz>', '<Token:END:ertz>', '<Token:START:ner>', '<Token:START:nert>', '<Token:TOTAL:nertz>', '<Token:TOTAL:azr>', '<Token:END:zr>', '<Token:START:az>', '<Token:END:shandr>', '<Token:MID:eshand>', '<Token:MID:and>', '<Token:MID:shan>', '<Token:MID:sha>', '<Token:MID:esha>', '<Token:START:kesha>', '<Token:END:handr>', '<Token:START:kes>', '<Token:END:dr>', '<Token:END:andr>', '<Token:MID:nd>', '<Token:END:ndr>', '<Token:MID:han>', '<Token:END:eshandr>', '<Token:START:keshand>', '<Token:START:kesh>', '<Token:MID:hand>', '<Token:MID:eshan>', '<Token:START:keshan>', '<Token:TOTAL:keshandr>', '<Token:MID:esh>', '<Token:MID:shand>', '<Token:TOTAL:xms>', '<Token:END:ms>', '<Token:START:x>', '<Token:START:xm>', '<Token:TOTAL:advent>', '<Token:MID:dve>', '<Token:MID:ven>', '<Token:END:dvent>', '<Token:START:adv>', '<Token:MID:dv>', '<Token:END:vent>', '<Token:END:ent>', '<Token:START:ad>', '<Token:MID:dven>', '<Token:START:adve>', '<Token:END:nt>', '<Token:START:adven>', '<Token:MID:diey>', '<Token:MID:med>', '<Token:START:somedie>', '<Token:MID:edieyo>', '<Token:MID:edieyoun>', '<Token:START:somediey>', '<Token:MID:medieyoun>', '<Token:MID:omedieyoun>', '<Token:MID:medieyou>', '<Token:START:somedieyou>', '<Token:MID:medi>', '<Token:MID:medie>', '<Token:MID:mediey>', '<Token:MID:edieyou>', '<Token:MID:omedie>', '<Token:TOTAL:somedieyoung>', '<Token:MID:edie>', '<Token:MID:medieyo>', '<Token:MID:omed>', '<Token:START:somed>', '<Token:MID:dieyoun>', '<Token:MID:dieyo>', '<Token:END:edieyoung>', '<Token:START:somedi>', '<Token:MID:ieyou>', '<Token:END:omedieyoung>', '<Token:MID:omediey>', '<Token:MID:ieyo>', '<Token:MID:omedieyou>', '<Token:MID:dieyou>', '<Token:MID:omedieyo>', '<Token:START:somedieyoun>', '<Token:MID:iey>', '<Token:MID:ieyoun>', '<Token:MID:die>', '<Token:MID:ediey>', '<Token:END:medieyoung>', '<Token:MID:omedi>', '<Token:START:somedieyo>', '<Token:END:dieyoung>', '<Token:END:ieyoung>', '<Token:START:ar>', '<Token:END:rt>', '<Token:TOTAL:art>', '<Token:END:uby>', '<Token:TOTAL:gruby>', '<Token:MID:rub>', '<Token:START:grub>', '<Token:END:ruby>', '<Token:MID:ru>', '<Token:START:gr>', '<Token:END:by>', '<Token:START:gru>', '<Token:END:scerato>', '<Token:END:ato>', '<Token:MID:ra>', '<Token:MID:cer>', '<Token:TOTAL:kscerato>', '<Token:MID:sce>', '<Token:MID:rat>', '<Token:START:ksce>', '<Token:MID:cera>', '<Token:MID:sc>', '<Token:MID:scera>', '<Token:MID:scer>', '<Token:MID:era>', '<Token:START:kscerat>', '<Token:END:erato>', '<Token:MID:cerat>', '<Token:START:ks>', '<Token:MID:scerat>', '<Token:END:rato>', '<Token:START:kscer>', '<Token:START:kscera>', '<Token:MID:ce>', '<Token:MID:erat>', '<Token:END:cerato>', '<Token:START:ksc>', '<Token:START:nb>', '<Token:MID:bk>', '<Token:END:bk->', '<Token:END:k->', '<Token:START:nbk>', '<Token:TOTAL:nbk->', '<Token:START:zev>', '<Token:END:vy>', '<Token:TOTAL:zevy>', '<Token:END:evy>', '<Token:START:br>', '<Token:END:hze>', '<Token:MID:rehz>', '<Token:MID:ehz>', '<Token:END:rehze>', '<Token:START:bre>', '<Token:END:ehze>', '<Token:START:brehz>', '<Token:MID:reh>', '<Token:TOTAL:brehze>', '<Token:START:breh>', '<Token:TOTAL:sick>', '<Token:MID:avide>', '<Token:MID:videu>', '<Token:MID:avid>', '<Token:MID:ide>', '<Token:MID:vid>', '<Token:MID:avideu>', '<Token:END:deus>', '<Token:END:videus>', '<Token:END:ideus>', '<Token:START:davide>', '<Token:MID:ideu>', '<Token:MID:deu>', '<Token:START:davideu>', '<Token:MID:vide>', '<Token:MID:id>', '<Token:MID:avi>', '<Token:START:davi>', '<Token:START:david>', '<Token:TOTAL:davideus>', '<Token:END:avideus>', '<Token:END:nihilation>', '<Token:MID:nnih>', '<Token:MID:latio>', '<Token:MID:atio>', '<Token:MID:nni>', '<Token:MID:nih>', '<Token:MID:nihilat>', '<Token:MID:ilati>', '<Token:TOTAL:annihilation>', '<Token:MID:ihi>', '<Token:END:ion>', '<Token:END:ilation>', '<Token:END:tion>', '<Token:MID:hilatio>', '<Token:START:annihi>', '<Token:MID:io>', '<Token:MID:ati>', '<Token:END:lation>', '<Token:MID:ilatio>', '<Token:START:anni>', '<Token:MID:lat>', '<Token:MID:nnihi>', '<Token:MID:ih>', '<Token:MID:ilat>', '<Token:MID:lati>', '<Token:START:annih>', '<Token:START:annihilatio>', '<Token:MID:nihil>', '<Token:MID:nn>', '<Token:END:nnihilation>', '<Token:MID:ihilati>', '<Token:START:annihilati>', '<Token:MID:hi>', '<Token:MID:ila>', '<Token:MID:hil>', '<Token:END:on>', '<Token:MID:hila>', '<Token:MID:hilat>', '<Token:END:ihilation>', '<Token:MID:nihilati>', '<Token:MID:nnihil>', '<Token:START:ann>', '<Token:MID:hilati>', '<Token:MID:ihila>', '<Token:MID:nihila>', '<Token:MID:nnihilati>', '<Token:MID:ihilat>', '<Token:START:annihila>', '<Token:MID:nnihilatio>', '<Token:MID:ihilatio>', '<Token:MID:nihi>', '<Token:MID:nnihilat>', '<Token:START:annihil>', '<Token:MID:tio>', '<Token:MID:ihil>', '<Token:START:annihilat>', '<Token:MID:nihilatio>', '<Token:END:ation>', '<Token:MID:nnihila>', '<Token:END:hilation>', '<Token:MID:ix>', '<Token:END:well>', '<Token:START:mixwe>', '<Token:MID:ixwel>', '<Token:START:mixw>', '<Token:MID:xwel>', '<Token:END:ll>', '<Token:MID:xw>', '<Token:START:mix>', '<Token:MID:we>', '<Token:END:ell>', '<Token:MID:ixwe>', '<Token:MID:ixw>', '<Token:START:mixwel>', '<Token:MID:xwe>', '<Token:END:xwell>', '<Token:MID:wel>', '<Token:END:ixwell>', '<Token:TOTAL:mixwell>', '<Token:TOTAL:max>', '<Token:MID:taeh>', '<Token:TOTAL:staehr>', '<Token:MID:ae>', '<Token:END:aehr>', '<Token:END:ehr>', '<Token:MID:aeh>', '<Token:MID:tae>', '<Token:START:staeh>', '<Token:START:stae>', '<Token:END:taehr>', '<Token:MID:et>', '<Token:END:setag>', '<Token:START:eset>', '<Token:MID:seta>', '<Token:TOTAL:esetag>', '<Token:END:tag>', '<Token:MID:eta>', '<Token:START:ese>', '<Token:START:es>', '<Token:END:ag>', '<Token:END:etag>', '<Token:START:eseta>', '<Token:MID:set>', '<Token:END:at>', '<Token:MID:ya>', '<Token:MID:vya>', '<Token:END:vyat>', '<Token:START:svya>', '<Token:START:svy>', '<Token:TOTAL:svyat>', '<Token:MID:vy>', '<Token:START:sv>', '<Token:END:yat>', '<Token:END:ter->', '<Token:END:unter->', '<Token:TOTAL:hunter->', '<Token:END:nter->', '<Token:MID:nter>', '<Token:MID:nt>', '<Token:START:hunte>', '<Token:START:hunter>', '<Token:START:hunt>', '<Token:MID:unt>', '<Token:START:hu>', '<Token:END:er->', '<Token:MID:unter>', '<Token:START:hun>', '<Token:MID:unte>', '<Token:END:r->', '<Token:MID:nte>', '<Token:END:eet>', '<Token:TOTAL:peet>', '<Token:END:et>', '<Token:START:pee>', '<Token:START:al>', '<Token:START:all>', '<Token:TOTAL:allu>', '<Token:END:lu>', '<Token:END:llu>', '<Token:TOTAL:vini>', '<Token:START:v>', '<Token:END:ni>', '<Token:START:vin>', '<Token:END:ini>', '<Token:START:vi>', '<Token:END:lon>', '<Token:MID:ilo>', '<Token:MID:ps>', '<Token:MID:sil>', '<Token:MID:si>', '<Token:START:eps>', '<Token:MID:silo>', '<Token:END:ilon>', '<Token:START:ep>', '<Token:MID:psilo>', '<Token:MID:psil>', '<Token:START:epsi>', '<Token:TOTAL:epsilon>', '<Token:START:epsilo>', '<Token:MID:psi>', '<Token:END:silon>', '<Token:END:psilon>', '<Token:START:epsil>', '<Token:TOTAL:ez>', '<Token:START:dg>', '<Token:END:gt>', '<Token:TOTAL:dgt>', '<Token:END:llen>', '<Token:TOTAL:fallen>', '<Token:START:falle>', '<Token:MID:lle>', '<Token:END:allen>', '<Token:START:fal>', '<Token:START:fall>', '<Token:MID:alle>', '<Token:END:len>', '<Token:END:rry>', '<Token:START:jerr>', '<Token:MID:err>', '<Token:START:je>', '<Token:END:erry>', '<Token:TOTAL:jerry>', '<Token:MID:rr>', '<Token:START:jer>', '<Token:END:roky>', '<Token:MID:rok>', '<Token:MID:ok>', '<Token:START:bro>', '<Token:END:oky>', '<Token:START:brok>', '<Token:TOTAL:broky>', '<Token:END:ky>', '<Token:START:ex>', '<Token:TOTAL:exit>', '<Token:END:xit>', '<Token:START:exi>', '<Token:MID:oud>', '<Token:END:d9>', '<Token:TOTAL:cloud9>', '<Token:MID:lou>', '<Token:END:ud9>', '<Token:END:oud9>', '<Token:START:clo>', '<Token:MID:ud>', '<Token:END:loud9>', '<Token:START:cloud>', '<Token:MID:loud>', '<Token:START:clou>', '<Token:END:ennys>', '<Token:START:kenny>', '<Token:START:kenn>', '<Token:MID:enn>', '<Token:MID:nny>', '<Token:TOTAL:kennys>', '<Token:MID:enny>', '<Token:END:nys>', '<Token:END:nnys>', '<Token:END:ys>', '<Token:MID:ny>', '<Token:END:low>', '<Token:START:fl>', '<Token:START:flo>', '<Token:END:ow>', '<Token:TOTAL:flow>', '<Token:START:vs>', '<Token:END:sm>', '<Token:TOTAL:vsm>', '<Token:TOTAL:big>', '<Token:END:ig>', '<Token:MID:au>', '<Token:TOTAL:launx>', '<Token:END:unx>', '<Token:MID:aun>', '<Token:END:aunx>', '<Token:START:lau>', '<Token:START:laun>', '<Token:START:la>', '<Token:END:nx>', '<Token:MID:aoz>', '<Token:START:lucao>', '<Token:MID:caoz>', '<Token:END:aozy>', '<Token:END:zy>', '<Token:TOTAL:lucaozy>', '<Token:START:lucaoz>', '<Token:END:ozy>', '<Token:END:ucaozy>', '<Token:MID:ucaoz>', '<Token:MID:cao>', '<Token:END:caozy>', '<Token:MID:ucao>', '<Token:END:troo>', '<Token:TOTAL:juanflatroo>', '<Token:MID:flatro>', '<Token:MID:uanflatr>', '<Token:MID:anflat>', '<Token:MID:uanfla>', '<Token:MID:nflatr>', '<Token:MID:anflatr>', '<Token:MID:nflatro>', '<Token:MID:anflatro>', '<Token:MID:uan>', '<Token:END:uanflatroo>', '<Token:START:ju>', '<Token:END:atroo>', '<Token:MID:nfl>', '<Token:MID:latr>', '<Token:END:flatroo>', '<Token:MID:anfla>', '<Token:START:juanfl>', '<Token:MID:uanflat>', '<Token:MID:uanflatro>', '<Token:START:jua>', '<Token:START:juanflatr>', '<Token:END:anflatroo>', '<Token:START:juanflatro>', '<Token:END:nflatroo>', '<Token:MID:anf>', '<Token:MID:uanf>', '<Token:MID:atr>', '<Token:MID:flat>', '<Token:MID:anfl>', '<Token:START:juanflat>', '<Token:MID:uanfl>', '<Token:END:latroo>', '<Token:START:juanfla>', '<Token:MID:nfla>', '<Token:MID:fl>', '<Token:MID:fla>', '<Token:MID:ua>', '<Token:MID:latro>', '<Token:MID:nflat>', '<Token:MID:flatr>', '<Token:START:juanf>', '<Token:MID:nf>', '<Token:END:roo>', '<Token:START:juan>', '<Token:MID:atro>', '<Token:START:rigo>', '<Token:START:rig>', '<Token:MID:ig>', '<Token:TOTAL:rigon>', '<Token:END:gon>', '<Token:END:igon>', '<Token:START:ri>', '<Token:MID:go>', '<Token:MID:igo>', '<Token:MID:utj>', '<Token:START:hut>', '<Token:END:utji>', '<Token:START:hutj>', '<Token:TOTAL:hutji>', '<Token:MID:tj>', '<Token:END:tji>', '<Token:START:ale>', '<Token:END:ex>', '<Token:END:lex>', '<Token:TOTAL:alex>', '<Token:END:res>', '<Token:MID:antare>', '<Token:MID:anta>', '<Token:END:antares>', '<Token:END:tares>', '<Token:START:xantare>', '<Token:MID:ntare>', '<Token:MID:nta>', '<Token:START:xanta>', '<Token:START:xantar>', '<Token:MID:antar>', '<Token:END:ares>', '<Token:MID:are>', '<Token:MID:ant>', '<Token:START:xan>', '<Token:START:xa>', '<Token:MID:tare>', '<Token:END:ntares>', '<Token:START:xant>', '<Token:MID:ntar>', '<Token:TOTAL:xantares>', '<Token:MID:tar>', '<Token:START:bnte>', '<Token:END:ntet>', '<Token:START:bn>', '<Token:TOTAL:bntet>', '<Token:START:bnt>', '<Token:END:tet>', '<Token:START:spin>', '<Token:END:inx>', '<Token:END:pinx>', '<Token:TOTAL:spinx>', '<Token:MID:pi>', '<Token:START:spi>', '<Token:MID:pin>', '<Token:START:sp>', '<Token:END:berg>', '<Token:END:riberg>', '<Token:MID:ribe>', '<Token:MID:riber>', '<Token:START:fribe>', '<Token:END:rg>', '<Token:END:iberg>', '<Token:MID:iber>', '<Token:START:friber>', '<Token:START:frib>', '<Token:MID:ib>', '<Token:START:fri>', '<Token:TOTAL:friberg>', '<Token:MID:ibe>', '<Token:END:erg>', '<Token:MID:rib>', '<Token:START:kaba>', '<Token:START:kab>', '<Token:END:bal>', '<Token:MID:aba>', '<Token:MID:ab>', '<Token:TOTAL:kabal>', '<Token:END:abal>', '<Token:MID:ba>', '<Token:END:dy>', '<Token:TOTAL:sdy>', '<Token:START:sd>', '<Token:END:ou>', '<Token:TOTAL:mou>', '<Token:END:p>', '<Token:TOTAL:pimp>', '<Token:END:imp>', '<Token:START:pim>', '<Token:END:mp>', '<Token:START:bon>', '<Token:MID:ondi>', '<Token:MID:ond>', '<Token:MID:ndi>', '<Token:END:ondik>', '<Token:END:ndik>', '<Token:TOTAL:bondik>', '<Token:START:bond>', '<Token:START:bo>', '<Token:START:bondi>', '<Token:END:dik>', '<Token:TOTAL:gade>', '<Token:END:ade>', '<Token:END:de>', '<Token:START:ga>', '<Token:MID:ad>', '<Token:START:gad>', '<Token:END:aze>', '<Token:TOTAL:kaze>', '<Token:START:kaz>', '<Token:MID:az>', '<Token:END:isk>', '<Token:START:mag>', '<Token:END:sk>', '<Token:MID:agi>', '<Token:MID:agis>', '<Token:START:magi>', '<Token:TOTAL:magisk>', '<Token:START:magis>', '<Token:END:agisk>', '<Token:MID:gis>', '<Token:END:gisk>', '<Token:END:azoid>', '<Token:MID:akazoi>', '<Token:MID:kazoi>', '<Token:TOTAL:freakazoid>', '<Token:MID:eakazo>', '<Token:MID:reakaz>', '<Token:MID:oi>', '<Token:END:d>', '<Token:MID:eaka>', '<Token:END:oid>', '<Token:END:akazoid>', '<Token:START:freakaz>', '<Token:MID:akaz>', '<Token:END:reakazoid>', '<Token:START:freaka>', '<Token:MID:eakaz>', '<Token:END:zoid>', '<Token:MID:azo>', '<Token:START:fre>', '<Token:MID:zo>', '<Token:MID:eak>', '<Token:START:freakazo>', '<Token:MID:eakazoi>', '<Token:START:freakazoi>', '<Token:MID:ak>', '<Token:MID:kaz>', '<Token:MID:zoi>', '<Token:MID:akazo>', '<Token:MID:azoi>', '<Token:MID:kazo>', '<Token:END:eakazoid>', '<Token:START:frea>', '<Token:MID:reaka>', '<Token:MID:reak>', '<Token:MID:rea>', '<Token:MID:reakazo>', '<Token:MID:aka>', '<Token:END:id>', '<Token:END:kazoid>', '<Token:MID:reakazoi>', '<Token:START:freak>', '<Token:TOTAL:p>', '<Token:TOTAL:acor>', '<Token:END:cor>', '<Token:END:or>', '<Token:START:ac>', '<Token:START:aco>', '<Token:END:yali>', '<Token:START:by>', '<Token:START:bya>', '<Token:END:ali>', '<Token:MID:yal>', '<Token:END:li>', '<Token:START:byal>', '<Token:TOTAL:byali>', '<Token:END:wist>', '<Token:END:ist>', '<Token:START:tw>', '<Token:START:twis>', '<Token:TOTAL:twist>', '<Token:MID:wis>', '<Token:START:twi>', '<Token:START:nr>', '<Token:TOTAL:nrg>', '<Token:END:sh>', '<Token:TOTAL:bash>', '<Token:START:bas>', '<Token:START:ba>', '<Token:END:ash>', '<Token:MID:hin>', '<Token:START:n0thin>', '<Token:START:n0t>', '<Token:START:n0th>', '<Token:END:0thing>', '<Token:MID:0thin>', '<Token:END:thing>', '<Token:END:hing>', '<Token:MID:thi>', '<Token:MID:0t>', '<Token:MID:0th>', '<Token:MID:thin>', '<Token:TOTAL:n0thing>', '<Token:MID:th>', '<Token:MID:0thi>', '<Token:START:n0thi>', '<Token:TOTAL:npl>', '<Token:END:pl>', '<Token:START:np>', '<Token:MID:lami>', '<Token:START:flam>', '<Token:END:lamie>', '<Token:TOTAL:flamie>', '<Token:START:flami>', '<Token:END:mie>', '<Token:END:ie>', '<Token:MID:ami>', '<Token:END:amie>', '<Token:MID:mi>', '<Token:START:fla>', '<Token:TOTAL:gg>', '<Token:MID:payu>', '<Token:START:sunpayu>', '<Token:END:npayus>', '<Token:MID:unpay>', '<Token:MID:yu>', '<Token:END:payus>', '<Token:MID:unpa>', '<Token:MID:np>', '<Token:START:sun>', '<Token:MID:npa>', '<Token:MID:pay>', '<Token:MID:ay>', '<Token:MID:ayu>', '<Token:MID:unpayu>', '<Token:END:yus>', '<Token:MID:unp>', '<Token:START:sunp>', '<Token:START:sunpay>', '<Token:START:sunpa>', '<Token:END:ayus>', '<Token:MID:npayu>', '<Token:MID:pa>', '<Token:END:unpayus>', '<Token:TOTAL:sunpayus>', '<Token:MID:npay>', '<Token:MID:maz>', '<Token:START:alma>', '<Token:MID:aze>', '<Token:MID:lmaze>', '<Token:MID:lmaz>', '<Token:END:lmazer>', '<Token:END:mazer>', '<Token:START:alm>', '<Token:TOTAL:almazer>', '<Token:MID:lma>', '<Token:END:azer>', '<Token:START:almaze>', '<Token:END:zer>', '<Token:START:almaz>', '<Token:MID:maze>', '<Token:MID:lm>', '<Token:END:egija>', '<Token:END:gija>', '<Token:MID:egi>', '<Token:START:le>', '<Token:START:legi>', '<Token:START:leg>', '<Token:MID:egij>', '<Token:TOTAL:legija>', '<Token:MID:gij>', '<Token:MID:ij>', '<Token:START:legij>', '<Token:MID:eg>', '<Token:END:ija>', '<Token:END:ja>', '<Token:TOTAL:f>', '<Token:MID:orzs>', '<Token:END:rzsi>', '<Token:START:tor>', '<Token:TOTAL:torzsi>', '<Token:START:torz>', '<Token:START:to>', '<Token:START:torzs>', '<Token:MID:zs>', '<Token:END:orzsi>', '<Token:END:zsi>', '<Token:MID:rzs>', '<Token:END:eadfox>', '<Token:END:fox>', '<Token:END:adfox>', '<Token:MID:dfo>', '<Token:MID:ead>', '<Token:MID:adf>', '<Token:MID:eadf>', '<Token:END:ox>', '<Token:START:deadf>', '<Token:START:dead>', '<Token:TOTAL:deadfox>', '<Token:MID:fo>', '<Token:END:dfox>', '<Token:MID:adfo>', '<Token:START:deadfo>', '<Token:MID:eadfo>', '<Token:MID:df>', '<Token:START:shr>', '<Token:END:hroud>', '<Token:MID:hr>', '<Token:END:oud>', '<Token:START:shrou>', '<Token:START:shro>', '<Token:END:ud>', '<Token:MID:rou>', '<Token:TOTAL:shroud>', '<Token:MID:hrou>', '<Token:END:roud>', '<Token:MID:hro>', '<Token:START:myni>', '<Token:END:io>', '<Token:END:nio>', '<Token:MID:yni>', '<Token:START:myn>', '<Token:START:my>', '<Token:TOTAL:mynio>', '<Token:END:ynio>', '<Token:MID:yn>', '<Token:MID:lbln>', '<Token:END:lblna>', '<Token:MID:bl>', '<Token:END:lna>', '<Token:START:balbl>', '<Token:START:bal>', '<Token:END:alblna>', '<Token:MID:albln>', '<Token:START:balb>', '<Token:END:na>', '<Token:END:blna>', '<Token:START:balbln>', '<Token:TOTAL:balblna>', '<Token:MID:alb>', '<Token:MID:ln>', '<Token:MID:bln>', '<Token:MID:albl>', '<Token:MID:lb>', '<Token:MID:lbl>', '<Token:END:kt>', '<Token:START:rek>', '<Token:START:re>', '<Token:END:ekt>', '<Token:TOTAL:rekt>', '<Token:MID:ek>', '<Token:MID:ph>', '<Token:START:zyph>', '<Token:END:yphon>', '<Token:MID:ypho>', '<Token:MID:yp>', '<Token:MID:pho>', '<Token:TOTAL:zyphon>', '<Token:MID:yph>', '<Token:START:zy>', '<Token:START:zyp>', '<Token:END:hon>', '<Token:START:zypho>', '<Token:END:phon>', '<Token:MID:eks>', '<Token:END:sib>', '<Token:END:b>', '<Token:MID:ks>', '<Token:MID:lek>', '<Token:END:eksib>', '<Token:MID:ksi>', '<Token:MID:leksi>', '<Token:START:alek>', '<Token:START:aleks>', '<Token:MID:leks>', '<Token:MID:eksi>', '<Token:END:leksib>', '<Token:TOTAL:aleksib>', '<Token:END:ib>', '<Token:START:aleksi>', '<Token:END:ksib>', '<Token:START:kra>', '<Token:END:ad>', '<Token:END:rad>', '<Token:TOTAL:krad>', '<Token:END:pex>', '<Token:START:ape>', '<Token:TOTAL:apex>', '<Token:MID:pe>', '<Token:START:ap>', '<Token:MID:9>', '<Token:END:9x>', '<Token:END:yp9x>', '<Token:END:p9x>', '<Token:MID:yp9>', '<Token:START:xyp9>', '<Token:MID:p9>', '<Token:START:xy>', '<Token:TOTAL:xyp9x>', '<Token:START:xyp>', '<Token:TOTAL:jw>', '<Token:START:body>', '<Token:MID:ody>', '<Token:START:bod>', '<Token:TOTAL:bodyy>', '<Token:END:odyy>', '<Token:MID:dy>', '<Token:END:dyy>', '<Token:END:yy>', '<Token:START:na>', '<Token:START:naw>', '<Token:TOTAL:nawwk>', '<Token:END:wk>', '<Token:MID:ww>', '<Token:START:naww>', '<Token:END:awwk>', '<Token:END:wwk>', '<Token:MID:aww>', '<Token:MID:aw>', '<Token:END:em>', '<Token:END:kaem>', '<Token:START:jkae>', '<Token:MID:kae>', '<Token:START:jk>', '<Token:START:jka>', '<Token:END:aem>', '<Token:TOTAL:jkaem>', '<Token:MID:laiv>', '<Token:START:glai>', '<Token:END:ve>', '<Token:START:glaiv>', '<Token:END:ive>', '<Token:START:gl>', '<Token:MID:aiv>', '<Token:TOTAL:glaive>', '<Token:MID:lai>', '<Token:END:aive>', '<Token:END:laive>', '<Token:START:gla>', '<Token:MID:iv>', '<Token:END:natic>', '<Token:END:tic>', '<Token:END:atic>', '<Token:START:fna>', '<Token:START:fnat>', '<Token:MID:nati>', '<Token:TOTAL:fnatic>', '<Token:START:fnati>', '<Token:MID:nat>', '<Token:START:ose>', '<Token:TOTAL:osee>', '<Token:END:ee>', '<Token:END:see>', '<Token:END:iade>', '<Token:START:biad>', '<Token:MID:iad>', '<Token:TOTAL:biade>', '<Token:START:bia>', '<Token:MID:utl>', '<Token:TOTAL:cutler>', '<Token:END:tler>', '<Token:MID:tle>', '<Token:MID:tl>', '<Token:END:utler>', '<Token:MID:utle>', '<Token:START:cu>', '<Token:START:cut>', '<Token:END:ler>', '<Token:START:cutl>', '<Token:START:cutle>', '<Token:MID:tac>', '<Token:MID:tt>', '<Token:TOTAL:attacker>', '<Token:END:acker>', '<Token:START:attac>', '<Token:END:cker>', '<Token:END:ttacker>', '<Token:END:tacker>', '<Token:MID:ttac>', '<Token:START:at>', '<Token:START:attack>', '<Token:MID:tta>', '<Token:START:att>', '<Token:START:attacke>', '<Token:MID:acke>', '<Token:MID:tack>', '<Token:END:ker>', '<Token:START:atta>', '<Token:MID:ttacke>', '<Token:MID:tacke>', '<Token:MID:ttack>', '<Token:MID:cke>', '<Token:MID:pta>', '<Token:END:ainmo>', '<Token:MID:ap>', '<Token:MID:tai>', '<Token:START:captainm>', '<Token:MID:tainm>', '<Token:END:mo>', '<Token:MID:apta>', '<Token:START:capt>', '<Token:MID:ain>', '<Token:MID:aptai>', '<Token:MID:aptainm>', '<Token:START:ca>', '<Token:MID:tain>', '<Token:START:capta>', '<Token:END:nmo>', '<Token:START:captai>', '<Token:MID:inm>', '<Token:START:cap>', '<Token:END:inmo>', '<Token:MID:ptainm>', '<Token:TOTAL:captainmo>', '<Token:MID:pt>', '<Token:MID:ptai>', '<Token:END:aptainmo>', '<Token:END:ptainmo>', '<Token:START:captain>', '<Token:END:tainmo>', '<Token:MID:apt>', '<Token:MID:ptain>', '<Token:MID:aptain>', '<Token:MID:ainm>', '<Token:TOTAL:refrezh>', '<Token:MID:efrez>', '<Token:END:frezh>', '<Token:MID:fre>', '<Token:MID:frez>', '<Token:START:refrez>', '<Token:END:rezh>', '<Token:MID:fr>', '<Token:END:ezh>', '<Token:MID:efr>', '<Token:MID:efre>', '<Token:START:ref>', '<Token:END:efrezh>', '<Token:START:refr>', '<Token:START:refre>', '<Token:MID:ef>', '<Token:MID:rez>', '<Token:END:zh>', '<Token:START:simp>', '<Token:MID:imp>', '<Token:START:simpl>', '<Token:END:imple>', '<Token:END:ple>', '<Token:TOTAL:simple>', '<Token:MID:impl>', '<Token:END:mple>', '<Token:START:sim>', '<Token:START:rall>', '<Token:START:ra>', '<Token:START:ral>', '<Token:TOTAL:rallen>', '<Token:START:ralle>', '<Token:MID:ju>', '<Token:MID:jun>', '<Token:END:unb>', '<Token:MID:aju>', '<Token:END:nb>', '<Token:START:caj>', '<Token:TOTAL:cajunb>', '<Token:END:junb>', '<Token:START:caju>', '<Token:END:ajunb>', '<Token:START:cajun>', '<Token:MID:ajun>', '<Token:END:r0>', '<Token:END:kr0>', '<Token:START:lek>', '<Token:MID:kr>', '<Token:TOTAL:lekr0>', '<Token:END:ekr0>', '<Token:END:0>', '<Token:START:lekr>', '<Token:MID:ekr>', '<Token:END:atz>', '<Token:TOTAL:hatz>', '<Token:START:hat>', '<Token:TOTAL:felps>', '<Token:START:felp>', '<Token:END:elps>', '<Token:END:lps>', '<Token:MID:lp>', '<Token:START:fel>', '<Token:MID:elp>', '<Token:END:ps>', '<Token:START:bust>', '<Token:START:buste>', '<Token:MID:us>', '<Token:START:bus>', '<Token:START:bu>', '<Token:END:ter>', '<Token:TOTAL:buster>', '<Token:MID:ust>', '<Token:MID:ste>', '<Token:MID:uste>', '<Token:END:uster>', '<Token:END:ster>', '<Token:END:xi>', '<Token:TOTAL:hooxi>', '<Token:MID:oox>', '<Token:START:hoox>', '<Token:END:oxi>', '<Token:END:ooxi>', '<Token:START:hoo>', '<Token:MID:ox>', '<Token:START:tech>', '<Token:MID:hno>', '<Token:MID:o4>', '<Token:START:techno4>', '<Token:MID:echn>', '<Token:MID:4>', '<Token:END:no4k>', '<Token:END:o4k>', '<Token:MID:chno4>', '<Token:TOTAL:techno4k>', '<Token:END:chno4k>', '<Token:START:techno>', '<Token:MID:chn>', '<Token:MID:hn>', '<Token:MID:ech>', '<Token:START:tec>', '<Token:MID:no>', '<Token:START:techn>', '<Token:MID:no4>', '<Token:END:echno4k>', '<Token:MID:chno>', '<Token:MID:echno4>', '<Token:MID:echno>', '<Token:END:4k>', '<Token:MID:hno4>', '<Token:END:hno4k>', '<Token:MID:rdz>', '<Token:TOTAL:hardzao>', '<Token:END:dzao>', '<Token:MID:dza>', '<Token:MID:ard>', '<Token:START:hardz>', '<Token:END:zao>', '<Token:START:har>', '<Token:MID:rdza>', '<Token:START:hard>', '<Token:MID:rd>', '<Token:MID:ardz>', '<Token:END:ardzao>', '<Token:END:rdzao>', '<Token:START:hardza>', '<Token:END:ao>', '<Token:MID:ardza>', '<Token:MID:uk>', '<Token:END:ken>', '<Token:START:luk>', '<Token:END:uken>', '<Token:START:luke>', '<Token:MID:uke>', '<Token:TOTAL:luken>', '<Token:END:evil>', '<Token:TOTAL:devil>', '<Token:END:il>', '<Token:END:vil>', '<Token:END:ixx>', '<Token:START:magix>', '<Token:MID:agix>', '<Token:MID:gix>', '<Token:END:agixx>', '<Token:END:xx>', '<Token:END:gixx>', '<Token:TOTAL:magixx>', '<Token:MID:uze>', '<Token:END:uzera>', '<Token:END:guzera>', '<Token:MID:gu>', '<Token:MID:iguzer>', '<Token:START:biguz>', '<Token:MID:iguz>', '<Token:MID:uz>', '<Token:TOTAL:biguzera>', '<Token:MID:igu>', '<Token:MID:guze>', '<Token:MID:iguze>', '<Token:START:bigu>', '<Token:START:biguzer>', '<Token:END:iguzera>', '<Token:MID:uzer>', '<Token:MID:guzer>', '<Token:START:biguze>', '<Token:START:big>', '<Token:MID:guz>', '<Token:START:haze>', '<Token:START:haz>', '<Token:END:ed>', '<Token:END:zed>', '<Token:TOTAL:hazed>', '<Token:END:azed>', '<Token:START:ro>', '<Token:MID:oe>', '<Token:TOTAL:roej>', '<Token:START:roe>', '<Token:END:oej>', '<Token:END:rq>', '<Token:END:q>', '<Token:START:ce>', '<Token:TOTAL:cerq>', '<Token:START:cer>', '<Token:END:erq>', '<Token:TOTAL:bosh>', '<Token:END:osh>', '<Token:START:bos>', '<Token:START:erkas>', '<Token:END:ast>', '<Token:MID:kas>', '<Token:TOTAL:erkast>', '<Token:START:erka>', '<Token:MID:rk>', '<Token:START:er>', '<Token:START:erk>', '<Token:MID:rka>', '<Token:END:kast>', '<Token:END:rkast>', '<Token:MID:rkas>', '<Token:END:litz>', '<Token:START:blit>', '<Token:START:bli>', '<Token:MID:lit>', '<Token:TOTAL:blitz>', '<Token:END:itz>', '<Token:START:inter>', '<Token:START:inte>', '<Token:END:rz>', '<Token:END:nterz>', '<Token:END:erz>', '<Token:END:terz>', '<Token:START:int>', '<Token:START:in>', '<Token:TOTAL:interz>', '<Token:TOTAL:jl>', '<Token:TOTAL:yel>', '<Token:END:el>', '<Token:START:ye>', '<Token:MID:magin>', '<Token:END:gine>', '<Token:END:ne>', '<Token:START:emagin>', '<Token:MID:mag>', '<Token:START:emagi>', '<Token:END:agine>', '<Token:MID:magi>', '<Token:MID:gin>', '<Token:START:ema>', '<Token:TOTAL:emagine>', '<Token:END:ine>', '<Token:MID:agin>', '<Token:END:magine>', '<Token:START:em>', '<Token:START:emag>', '<Token:TOTAL:nekiz>', '<Token:START:nek>', '<Token:MID:ki>', '<Token:END:ekiz>', '<Token:START:neki>', '<Token:END:kiz>', '<Token:END:iz>', '<Token:MID:eki>', '<Token:END:nior>', '<Token:START:junio>', '<Token:MID:uni>', '<Token:START:jun>', '<Token:MID:unio>', '<Token:START:juni>', '<Token:END:unior>', '<Token:END:ior>', '<Token:TOTAL:junior>', '<Token:MID:nio>', '<Token:MID:kadood>', '<Token:MID:kadoo>', '<Token:MID:ado>', '<Token:START:ska>', '<Token:END:odle>', '<Token:MID:adood>', '<Token:START:skadoo>', '<Token:MID:kadoodl>', '<Token:TOTAL:skadoodle>', '<Token:MID:odl>', '<Token:MID:kad>', '<Token:MID:doo>', '<Token:END:oodle>', '<Token:MID:dood>', '<Token:END:dle>', '<Token:MID:doodl>', '<Token:START:skado>', '<Token:MID:kado>', '<Token:START:skad>', '<Token:MID:adoo>', '<Token:START:skadoodl>', '<Token:MID:dl>', '<Token:MID:oodl>', '<Token:END:doodle>', '<Token:END:adoodle>', '<Token:START:skadood>', '<Token:END:kadoodle>', '<Token:MID:adoodl>', '<Token:TOTAL:demqq>', '<Token:END:qq>', '<Token:MID:em>', '<Token:START:dem>', '<Token:END:mqq>', '<Token:END:emqq>', '<Token:MID:emq>', '<Token:START:demq>', '<Token:END:iko>', '<Token:TOTAL:niko>', '<Token:END:ko>', '<Token:START:nik>', '<Token:START:jksav>', '<Token:MID:sav>', '<Token:MID:vag>', '<Token:TOTAL:jksavage>', '<Token:MID:ksava>', '<Token:END:ge>', '<Token:MID:savag>', '<Token:MID:ksav>', '<Token:START:jks>', '<Token:START:jksava>', '<Token:MID:ava>', '<Token:START:jksavag>', '<Token:END:vage>', '<Token:MID:ksa>', '<Token:END:savage>', '<Token:MID:sava>', '<Token:END:avage>', '<Token:MID:ksavag>', '<Token:END:ksavage>', '<Token:END:age>', '<Token:MID:va>', '<Token:MID:avag>', '<Token:START:jksa>', '<Token:END:ywoo>', '<Token:START:zyw>', '<Token:TOTAL:zywoo>', '<Token:MID:ywo>', '<Token:START:zywo>', '<Token:MID:wo>', '<Token:END:woo>', '<Token:MID:yw>', '<Token:START:flush>', '<Token:END:sha>', '<Token:MID:lu>', '<Token:END:ha>', '<Token:END:usha>', '<Token:TOTAL:flusha>', '<Token:START:flus>', '<Token:MID:lush>', '<Token:END:lusha>', '<Token:MID:lus>', '<Token:START:flu>', '<Token:MID:ush>', '<Token:START:ya>', '<Token:TOTAL:yam>', '<Token:MID:ooc>', '<Token:END:ooch>', '<Token:END:ch>', '<Token:MID:oc>', '<Token:TOTAL:hooch>', '<Token:START:hooc>', '<Token:END:och>', '<Token:START:sna>', '<Token:TOTAL:snax>', '<Token:START:sn>', '<Token:MID:ener>', '<Token:MID:ner>', '<Token:MID:ene>', '<Token:TOTAL:seneri>', '<Token:START:sener>', '<Token:END:ri>', '<Token:END:eneri>', '<Token:END:eri>', '<Token:START:sene>', '<Token:START:sen>', '<Token:END:neri>', '<Token:START:letn>', '<Token:END:tni>', '<Token:TOTAL:letni>', '<Token:START:let>', '<Token:MID:tn>', '<Token:END:etni>', '<Token:MID:etn>', '<Token:MID:iosh>', '<Token:START:kios>', '<Token:MID:ios>', '<Token:END:oshima>', '<Token:MID:ioshim>', '<Token:MID:him>', '<Token:START:ki>', '<Token:START:kioshim>', '<Token:MID:oshim>', '<Token:END:shima>', '<Token:END:ioshima>', '<Token:MID:shi>', '<Token:START:kio>', '<Token:START:kioshi>', '<Token:END:hima>', '<Token:START:kiosh>', '<Token:MID:osh>', '<Token:MID:oshi>', '<Token:TOTAL:kioshima>', '<Token:MID:ioshi>', '<Token:MID:shim>', '<Token:END:4lde>', '<Token:MID:4ld>', '<Token:START:v4>', '<Token:TOTAL:v4lde>', '<Token:START:v4l>', '<Token:MID:4l>', '<Token:END:lde>', '<Token:START:v4ld>', '<Token:TOTAL:david>', '<Token:END:avid>', '<Token:END:vid>', '<Token:MID:innops>', '<Token:MID:innopsy>', '<Token:START:sinno>', '<Token:START:sinnopsy>', '<Token:MID:sy>', '<Token:END:opsyy>', '<Token:END:nnopsyy>', '<Token:START:sinnop>', '<Token:MID:op>', '<Token:MID:psy>', '<Token:START:sinnops>', '<Token:MID:nop>', '<Token:MID:nnop>', '<Token:MID:inno>', '<Token:MID:nops>', '<Token:MID:opsy>', '<Token:MID:innop>', '<Token:MID:nnops>', '<Token:MID:ops>', '<Token:START:sinn>', '<Token:END:syy>', '<Token:MID:inn>', '<Token:END:nopsyy>', '<Token:MID:nnopsy>', '<Token:TOTAL:sinnopsyy>', '<Token:START:sin>', '<Token:MID:nopsy>', '<Token:MID:nno>', '<Token:END:psyy>', '<Token:END:innopsyy>', '<Token:TOTAL:peek>', '<Token:END:ek>', '<Token:END:eek>', '<Token:TOTAL:fox>', '<Token:TOTAL:dephh>', '<Token:START:deph>', '<Token:MID:ep>', '<Token:END:hh>', '<Token:END:ephh>', '<Token:START:dep>', '<Token:END:phh>', '<Token:MID:eph>', '<Token:TOTAL:dd>', '<Token:START:ob>', '<Token:TOTAL:obo>', '<Token:TOTAL:ence>', '<Token:END:nce>', '<Token:START:en>', '<Token:MID:nc>', '<Token:START:enc>', '<Token:END:lit>', '<Token:TOTAL:flit>', '<Token:START:fli>', '<Token:END:sia>', '<Token:START:dos>', '<Token:START:dosi>', '<Token:END:ia>', '<Token:MID:osi>', '<Token:TOTAL:dosia>', '<Token:START:do>', '<Token:END:osia>', '<Token:TOTAL:bart4k>', '<Token:END:rt4k>', '<Token:MID:t4>', '<Token:MID:art>', '<Token:START:bart4>', '<Token:END:t4k>', '<Token:MID:rt4>', '<Token:MID:art4>', '<Token:END:art4k>', '<Token:START:bart>', '<Token:START:bar>', '<Token:START:resal>', '<Token:MID:esal>', '<Token:END:esalt>', '<Token:END:lt>', '<Token:START:resa>', '<Token:TOTAL:resalt>', '<Token:START:res>', '<Token:END:salt>', '<Token:END:alt>', '<Token:MID:esa>', '<Token:MID:sal>', '<Token:MID:omeb>', '<Token:MID:ebod>', '<Token:MID:mebod>', '<Token:MID:mebo>', '<Token:MID:eb>', '<Token:END:body>', '<Token:MID:bo>', '<Token:END:ody>', '<Token:TOTAL:somebody>', '<Token:START:somebo>', '<Token:END:ebody>', '<Token:MID:bod>', '<Token:MID:meb>', '<Token:START:somebod>', '<Token:START:someb>', '<Token:MID:omebod>', '<Token:END:omebody>', '<Token:MID:omebo>', '<Token:MID:ebo>', '<Token:END:mebody>', '<Token:END:nappi>', '<Token:START:snapp>', '<Token:START:snap>', '<Token:MID:napp>', '<Token:TOTAL:snappi>', '<Token:END:ppi>', '<Token:MID:nap>', '<Token:MID:app>', '<Token:MID:pp>', '<Token:END:appi>', '<Token:END:pi>', '<Token:START:cyp>', '<Token:MID:phe>', '<Token:START:cy>', '<Token:TOTAL:cypher>', '<Token:MID:he>', '<Token:END:ypher>', '<Token:END:pher>', '<Token:END:her>', '<Token:MID:yphe>', '<Token:START:cyph>', '<Token:START:cyphe>', '<Token:START:rai>', '<Token:END:ain>', '<Token:TOTAL:rain>', '<Token:END:owel>', '<Token:END:wel>', '<Token:START:lo>', '<Token:TOTAL:lowel>', '<Token:START:low>', '<Token:MID:owe>', '<Token:START:lowe>', '<Token:MID:ombl>', '<Token:MID:oombl>', '<Token:END:ombl4>', '<Token:START:boombl>', '<Token:MID:oom>', '<Token:END:mbl4>', '<Token:MID:mbl>', '<Token:END:bl4>', '<Token:MID:omb>', '<Token:END:l4>', '<Token:MID:oomb>', '<Token:START:boom>', '<Token:END:oombl4>', '<Token:START:boomb>', '<Token:TOTAL:boombl4>', '<Token:START:boo>', '<Token:END:omed>', '<Token:START:doo>', '<Token:END:med>', '<Token:TOTAL:doomed>', '<Token:START:doome>', '<Token:END:oomed>', '<Token:START:doom>', '<Token:MID:oome>', '<Token:START:dych>', '<Token:TOTAL:dycha>', '<Token:MID:yc>', '<Token:MID:ych>', '<Token:START:dy>', '<Token:END:cha>', '<Token:END:ycha>', '<Token:START:dyc>', '<Token:TOTAL:plopski>', '<Token:START:plopsk>', '<Token:MID:lops>', '<Token:END:ki>', '<Token:MID:psk>', '<Token:END:ski>', '<Token:END:opski>', '<Token:START:plops>', '<Token:MID:lop>', '<Token:START:pl>', '<Token:END:lopski>', '<Token:START:plop>', '<Token:START:plo>', '<Token:MID:lopsk>', '<Token:MID:opsk>', '<Token:END:pski>', '<Token:END:unny>', '<Token:START:sunn>', '<Token:TOTAL:sunny>', '<Token:MID:unn>', '<Token:END:nny>', '<Token:END:ny>', '<Token:END:zikboss>', '<Token:MID:mz>', '<Token:MID:amzikbo>', '<Token:MID:kbo>', '<Token:MID:zikbos>', '<Token:MID:mzi>', '<Token:END:boss>', '<Token:MID:mzik>', '<Token:TOTAL:ramzikboss>', '<Token:MID:mzikbos>', '<Token:START:ramzi>', '<Token:END:amzikboss>', '<Token:MID:bos>', '<Token:END:ikboss>', '<Token:MID:mzikb>', '<Token:END:kboss>', '<Token:MID:ikb>', '<Token:MID:amzikbos>', '<Token:MID:zik>', '<Token:MID:amzikb>', '<Token:START:ramzik>', '<Token:MID:mzikbo>', '<Token:START:ramzikb>', '<Token:MID:zikbo>', '<Token:END:oss>', '<Token:END:ss>', '<Token:START:ramzikbo>', '<Token:MID:ikbo>', '<Token:START:ramz>', '<Token:MID:zikb>', '<Token:MID:amzi>', '<Token:MID:kbos>', '<Token:MID:amzik>', '<Token:MID:ikbos>', '<Token:MID:kb>', '<Token:MID:amz>', '<Token:END:mzikboss>', '<Token:START:ramzikbos>', '<Token:START:ram>', '<Token:TOTAL:king>', '<Token:START:kin>', '<Token:END:ir>', '<Token:TOTAL:mir>', '<Token:START:tizi>', '<Token:START:ti>', '<Token:END:ian>', '<Token:MID:zia>', '<Token:MID:iz>', '<Token:TOTAL:tizian>', '<Token:END:zian>', '<Token:START:tiz>', '<Token:START:tizia>', '<Token:END:izian>', '<Token:MID:izia>', '<Token:MID:izi>', '<Token:START:seize>', '<Token:TOTAL:seized>', '<Token:END:eized>', '<Token:START:seiz>', '<Token:END:ized>', '<Token:START:sei>', '<Token:MID:eiz>', '<Token:MID:ize>', '<Token:MID:eize>', '<Token:MID:ltu>', '<Token:TOTAL:reltuc>', '<Token:END:ltuc>', '<Token:MID:eltu>', '<Token:END:eltuc>', '<Token:END:tuc>', '<Token:START:relt>', '<Token:END:uc>', '<Token:START:reltu>', '<Token:MID:tu>', '<Token:MID:elt>', '<Token:START:rel>', '<Token:END:ish>', '<Token:START:bis>', '<Token:TOTAL:bish>', '<Token:TOTAL:scream>', '<Token:MID:cre>', '<Token:START:scre>', '<Token:END:ream>', '<Token:MID:cr>', '<Token:END:eam>', '<Token:START:screa>', '<Token:START:scr>', '<Token:END:cream>', '<Token:START:sc>', '<Token:MID:crea>', '<Token:END:rik>', '<Token:START:tar>', '<Token:START:ta>', '<Token:START:tari>', '<Token:MID:ari>', '<Token:END:arik>', '<Token:TOTAL:tarik>', '<Token:TOTAL:daps>', '<Token:START:dap>', '<Token:END:aps>', '<Token:TOTAL:rox>', '<Token:END:k0r>', '<Token:START:sk0>', '<Token:TOTAL:sk0r>', '<Token:MID:k0>', '<Token:END:0r>', '<Token:TOTAL:waylander>', '<Token:MID:land>', '<Token:END:ander>', '<Token:END:ylander>', '<Token:START:waylan>', '<Token:MID:ayl>', '<Token:START:way>', '<Token:END:aylander>', '<Token:END:lander>', '<Token:START:waylande>', '<Token:MID:ylande>', '<Token:END:nder>', '<Token:MID:ayland>', '<Token:MID:yla>', '<Token:START:wayla>', '<Token:MID:ylan>', '<Token:MID:ande>', '<Token:MID:lande>', '<Token:MID:aylan>', '<Token:MID:aylande>', '<Token:START:wayl>', '<Token:MID:yland>', '<Token:MID:ayla>', '<Token:START:wayland>', '<Token:MID:nde>', '<Token:END:lta>', '<Token:END:alta>', '<Token:START:malt>', '<Token:START:mal>', '<Token:TOTAL:malta>', '<Token:END:ntz>', '<Token:TOTAL:intz>', '<Token:END:ed4k>', '<Token:TOTAL:speed4k>', '<Token:END:peed4k>', '<Token:END:d4k>', '<Token:MID:peed4>', '<Token:START:spe>', '<Token:MID:d4>', '<Token:MID:pee>', '<Token:MID:peed>', '<Token:START:speed>', '<Token:MID:ed4>', '<Token:END:eed4k>', '<Token:MID:eed4>', '<Token:START:speed4>', '<Token:START:spee>', '<Token:MID:eed>', '<Token:START:tr>', '<Token:TOTAL:try>', '<Token:MID:tto>', '<Token:START:otto>', '<Token:END:ttond>', '<Token:END:nd>', '<Token:START:ott>', '<Token:END:tond>', '<Token:END:ond>', '<Token:MID:tton>', '<Token:MID:ton>', '<Token:START:otton>', '<Token:TOTAL:ottond>', '<Token:START:ot>', '<Token:END:ez>', '<Token:TOTAL:rez>', '<Token:END:lige>', '<Token:MID:lig>', '<Token:END:ige>', '<Token:START:eli>', '<Token:TOTAL:elige>', '<Token:START:elig>', '<Token:MID:uti>', '<Token:END:utimatic>', '<Token:MID:mat>', '<Token:MID:timati>', '<Token:TOTAL:autimatic>', '<Token:START:autima>', '<Token:END:timatic>', '<Token:START:aut>', '<Token:START:autim>', '<Token:MID:timat>', '<Token:START:autimat>', '<Token:END:imatic>', '<Token:MID:tim>', '<Token:MID:utimati>', '<Token:MID:ima>', '<Token:MID:imat>', '<Token:START:auti>', '<Token:MID:tima>', '<Token:MID:utim>', '<Token:MID:mati>', '<Token:MID:utima>', '<Token:END:matic>', '<Token:START:au>', '<Token:MID:utimat>', '<Token:START:autimati>', '<Token:MID:imati>', '<Token:MID:dwar>', '<Token:START:edw>', '<Token:MID:dwa>', '<Token:END:ward>', '<Token:END:rd>', '<Token:TOTAL:edward>', '<Token:MID:dw>', '<Token:MID:wa>', '<Token:END:ard>', '<Token:START:ed>', '<Token:MID:war>', '<Token:START:edwa>', '<Token:START:edwar>', '<Token:END:dward>', '<Token:MID: dop>', '<Token:START:disco do>', '<Token:END:o doplan>', '<Token:START:disco dopla>', '<Token:MID:o do>', '<Token:MID:sco dopla>', '<Token:MID:co >', '<Token:MID: dopl>', '<Token:MID:sco dopl>', '<Token:MID:o dop>', '<Token:MID:isco dop>', '<Token:END:plan>', '<Token:END:oplan>', '<Token:MID:isco dopl>', '<Token:MID:sco >', '<Token:MID:co dop>', '<Token:END: doplan>', '<Token:MID:opl>', '<Token:MID:o d>', '<Token:MID:isco>', '<Token:START:dis>', '<Token:MID: do>', '<Token:MID:o dopl>', '<Token:MID: dopla>', '<Token:MID:pla>', '<Token:START:disco>', '<Token:MID:co dopla>', '<Token:MID:o dopla>', '<Token:MID:sco dop>', '<Token:MID:isc>', '<Token:START:disco dopl>', '<Token:TOTAL:disco doplan>', '<Token:MID:o >', '<Token:MID:sco do>', '<Token:MID:isco d>', '<Token:MID: >', '<Token:MID:dopl>', '<Token:MID:sco>', '<Token:MID:dopla>', '<Token:MID:co dopl>', '<Token:MID:isco >', '<Token:MID:isco dopla>', '<Token:END:co doplan>', '<Token:END:isco doplan>', '<Token:MID:opla>', '<Token:MID:co do>', '<Token:START:disc>', '<Token:START:disco >', '<Token:MID: d>', '<Token:START:disco d>', '<Token:START:disco dop>', '<Token:MID:sco d>', '<Token:END:doplan>', '<Token:MID:isco do>', '<Token:MID:co d>', '<Token:END:sco doplan>', '<Token:MID:dop>', '<Token:MID:dr>', '<Token:START:adr>', '<Token:START:adre>', '<Token:MID:dre>', '<Token:TOTAL:adren>', '<Token:END:ren>', '<Token:END:dren>', '<Token:START:hex>', '<Token:END:ext>', '<Token:TOTAL:hext>', '<Token:END:xt>', '<Token:START:he>', '<Token:START:tabs>', '<Token:MID:abse>', '<Token:MID:bse>', '<Token:END:absen>', '<Token:START:tab>', '<Token:END:sen>', '<Token:TOTAL:tabsen>', '<Token:START:tabse>', '<Token:END:bsen>', '<Token:MID:bs>', '<Token:MID:abs>', '<Token:END:ak>', '<Token:START:isa>', '<Token:TOTAL:isak>', '<Token:END:sak>', '<Token:START:devod>', '<Token:MID:uv>', '<Token:START:devodu>', '<Token:MID:uve>', '<Token:MID:duv>', '<Token:MID:evo>', '<Token:END:vek>', '<Token:START:devoduve>', '<Token:MID:evod>', '<Token:MID:du>', '<Token:END:uvek>', '<Token:END:voduvek>', '<Token:MID:voduve>', '<Token:MID:duve>', '<Token:START:devo>', '<Token:MID:odu>', '<Token:END:oduvek>', '<Token:TOTAL:devoduvek>', '<Token:MID:vod>', '<Token:MID:oduv>', '<Token:END:evoduvek>', '<Token:END:duvek>', '<Token:MID:vodu>', '<Token:MID:voduv>', '<Token:MID:oduve>', '<Token:MID:evodu>', '<Token:MID:evoduv>', '<Token:START:devoduv>', '<Token:MID:evoduve>', '<Token:START:goo>', '<Token:END:oofy>', '<Token:TOTAL:goofy>', '<Token:START:goof>', '<Token:END:fy>', '<Token:END:ofy>', '<Token:START:go>', '<Token:MID:oof>', '<Token:END:olt>', '<Token:START:vol>', '<Token:TOTAL:volt>', '<Token:START:vo>', '<Token:TOTAL:hf>', '<Token:MID:egst>', '<Token:MID:gst>', '<Token:MID:egste>', '<Token:END:gster>', '<Token:TOTAL:degster>', '<Token:START:deg>', '<Token:START:degste>', '<Token:START:degs>', '<Token:MID:egs>', '<Token:START:degst>', '<Token:MID:gs>', '<Token:END:egster>', '<Token:MID:gste>', '<Token:START:fan>', '<Token:TOTAL:fang>', '<Token:END:ang>', '<Token:START:hen>', '<Token:TOTAL:heni>', '<Token:END:eni>', '<Token:MID:ug>', '<Token:START:fug>', '<Token:START:fugl>', '<Token:END:gly>', '<Token:END:ugly>', '<Token:TOTAL:fugly>', '<Token:END:ly>', '<Token:MID:ugl>', '<Token:END:nfig>', '<Token:START:k0nf>', '<Token:MID:fi>', '<Token:MID:0nf>', '<Token:TOTAL:k0nfig>', '<Token:START:k0nfi>', '<Token:START:k0n>', '<Token:MID:0nfi>', '<Token:END:0nfig>', '<Token:END:fig>', '<Token:START:k0>', '<Token:MID:nfi>', '<Token:START:kvi>', '<Token:START:kv>', '<Token:TOTAL:kvik>', '<Token:END:vik>', '<Token:START:farli>', '<Token:START:far>', '<Token:END:lig>', '<Token:TOTAL:farlig>', '<Token:END:arlig>', '<Token:MID:arli>', '<Token:MID:arl>', '<Token:END:rlig>', '<Token:START:farl>', '<Token:END:fee>', '<Token:MID:af>', '<Token:START:saffe>', '<Token:END:ffee>', '<Token:MID:affe>', '<Token:START:saff>', '<Token:TOTAL:saffee>', '<Token:MID:ff>', '<Token:MID:aff>', '<Token:MID:ffe>', '<Token:START:saf>', '<Token:END:affee>', '<Token:TOTAL:zorte>', '<Token:END:te>', '<Token:MID:ort>', '<Token:START:zor>', '<Token:END:orte>', '<Token:END:rte>', '<Token:START:zort>', '<Token:START:zo>', '<Token:TOTAL:t>', '<Token:END:ev>', '<Token:END:v>', '<Token:TOTAL:keev>', '<Token:START:kee>', '<Token:END:eev>', '<Token:TOTAL:boros>', '<Token:END:oros>', '<Token:START:bor>', '<Token:START:boro>', '<Token:END:ros>', '<Token:END:eman>', '<Token:MID:eem>', '<Token:MID:reem>', '<Token:END:eeman>', '<Token:START:freema>', '<Token:MID:eema>', '<Token:TOTAL:freeman>', '<Token:MID:reema>', '<Token:START:freem>', '<Token:END:reeman>', '<Token:MID:ema>', '<Token:END:man>', '<Token:START:free>', '<Token:TOTAL:sjuush>', '<Token:MID:uus>', '<Token:END:ush>', '<Token:END:uush>', '<Token:MID:juus>', '<Token:MID:juu>', '<Token:START:sjuus>', '<Token:END:juush>', '<Token:START:sj>', '<Token:START:sju>', '<Token:START:sjuu>', '<Token:MID:ruc>', '<Token:START:cruc>', '<Token:MID:uci>', '<Token:END:cial>', '<Token:MID:ruci>', '<Token:END:rucial>', '<Token:MID:ucia>', '<Token:MID:cia>', '<Token:MID:rucia>', '<Token:MID:ci>', '<Token:START:cruci>', '<Token:START:cr>', '<Token:END:ucial>', '<Token:START:cru>', '<Token:TOTAL:crucial>', '<Token:START:crucia>', '<Token:MID:lla>', '<Token:START:brol>', '<Token:START:broll>', '<Token:START:brolla>', '<Token:MID:rol>', '<Token:END:ollan>', '<Token:TOTAL:brollan>', '<Token:MID:olla>', '<Token:MID:oll>', '<Token:END:rollan>', '<Token:MID:rolla>', '<Token:END:llan>', '<Token:MID:roll>', '<Token:TOTAL:go>', '<Token:START:crus>', '<Token:MID:rus>', '<Token:END:rush>', '<Token:TOTAL:crush>', '<Token:TOTAL:back>', '<Token:END:ack>', '<Token:START:bac>', '<Token:TOTAL:nqz>', '<Token:END:qz>', '<Token:START:nq>', '<Token:END:mbie>', '<Token:TOTAL:zombie>', '<Token:MID:ombi>', '<Token:START:zombi>', '<Token:START:zomb>', '<Token:END:bie>', '<Token:START:zom>', '<Token:MID:mbi>', '<Token:END:ombie>', '<Token:TOTAL:coldyyi>', '<Token:START:coldyy>', '<Token:END:yi>', '<Token:MID:oldy>', '<Token:END:dyyi>', '<Token:START:coldy>', '<Token:END:yyi>', '<Token:MID:ldy>', '<Token:END:ldyyi>', '<Token:MID:yy>', '<Token:MID:dyy>', '<Token:END:oldyyi>', '<Token:MID:ldyy>', '<Token:MID:oldyy>', '<Token:START:nit>', '<Token:END:itr0>', '<Token:START:nitr>', '<Token:END:tr0>', '<Token:TOTAL:nitr0>', '<Token:MID:itr>', '<Token:END:rim>', '<Token:END:im>', '<Token:TOTAL:grim>', '<Token:START:gri>', '<Token:END:ob b>', '<Token:TOTAL:gob b>', '<Token:END:b b>', '<Token:MID:ob >', '<Token:END: b>', '<Token:START:gob>', '<Token:START:gob >', '<Token:MID:b >', '<Token:END:vey>', '<Token:MID:ave>', '<Token:START:dave>', '<Token:TOTAL:davey>', '<Token:END:avey>', '<Token:START:latt>', '<Token:TOTAL:latto>', '<Token:MID:att>', '<Token:END:atto>', '<Token:END:tto>', '<Token:START:lat>', '<Token:MID:rizze>', '<Token:END:rizzen>', '<Token:TOTAL:krizzen>', '<Token:START:krizz>', '<Token:START:krizze>', '<Token:END:zzen>', '<Token:MID:zz>', '<Token:MID:rizz>', '<Token:MID:izze>', '<Token:MID:zze>', '<Token:START:kriz>', '<Token:END:izzen>', '<Token:MID:izz>', '<Token:MID:riz>', '<Token:START:alist>', '<Token:END:listair>', '<Token:TOTAL:alistair>', '<Token:MID:ista>', '<Token:START:alistai>', '<Token:MID:listai>', '<Token:MID:lista>', '<Token:MID:list>', '<Token:START:ali>', '<Token:END:istair>', '<Token:END:air>', '<Token:END:tair>', '<Token:MID:istai>', '<Token:START:alis>', '<Token:MID:stai>', '<Token:MID:lis>', '<Token:END:stair>', '<Token:START:alista>', '<Token:END:tacy>', '<Token:START:dicks>', '<Token:MID:ckstac>', '<Token:MID:stac>', '<Token:END:stacy>', '<Token:MID:cksta>', '<Token:MID:kstac>', '<Token:END:ckstacy>', '<Token:START:dic>', '<Token:END:kstacy>', '<Token:END:acy>', '<Token:MID:ickst>', '<Token:MID:ickstac>', '<Token:MID:ksta>', '<Token:MID:kst>', '<Token:START:dicksta>', '<Token:START:dickst>', '<Token:MID:ick>', '<Token:MID:icksta>', '<Token:START:dickstac>', '<Token:MID:cks>', '<Token:END:ickstacy>', '<Token:START:dick>', '<Token:MID:ckst>', '<Token:TOTAL:dickstacy>', '<Token:END:cy>', '<Token:MID:icks>', '<Token:END:ugi>', '<Token:START:jug>', '<Token:TOTAL:jugi>', '<Token:END:gi>', '<Token:END:and>', '<Token:TOTAL:xand>', '<Token:END:lden>', '<Token:START:golde>', '<Token:END:den>', '<Token:MID:olde>', '<Token:END:olden>', '<Token:START:gold>', '<Token:TOTAL:golden>', '<Token:START:gol>', '<Token:END:rimz>', '<Token:END:mz>', '<Token:TOTAL:krimz>', '<Token:END:imz>', '<Token:MID:hie>', '<Token:MID:ieve>', '<Token:END:ves>', '<Token:MID:hiev>', '<Token:START:thiev>', '<Token:MID:hieve>', '<Token:START:thie>', '<Token:END:ieves>', '<Token:START:thi>', '<Token:END:hieves>', '<Token:TOTAL:thieves>', '<Token:MID:iev>', '<Token:END:eves>', '<Token:MID:eve>', '<Token:START:thieve>', '<Token:START:py>', '<Token:END:yth>', '<Token:TOTAL:pyth>', '<Token:START:pyt>', '<Token:MID:yt>', '<Token:END:th>', '<Token:MID:arkel>', '<Token:START:marke>', '<Token:MID:kelo>', '<Token:END:arkeloff>', '<Token:TOTAL:markeloff>', '<Token:MID:kelof>', '<Token:END:off>', '<Token:MID:rkelof>', '<Token:END:ff>', '<Token:MID:lof>', '<Token:END:keloff>', '<Token:MID:arke>', '<Token:END:loff>', '<Token:START:markelo>', '<Token:MID:rkel>', '<Token:START:mark>', '<Token:START:mar>', '<Token:START:markelof>', '<Token:END:eloff>', '<Token:MID:arkelo>', '<Token:MID:ark>', '<Token:MID:elof>', '<Token:END:rkeloff>', '<Token:MID:rkelo>', '<Token:MID:arkelof>', '<Token:START:markel>', '<Token:MID:elo>', '<Token:MID:rke>', '<Token:TOTAL:koi>', '<Token:END:oi>', '<Token:START:ko>', '<Token:TOTAL:hiko>', '<Token:START:hik>', '<Token:MID:opp>', '<Token:START:flopp>', '<Token:END:oppy>', '<Token:TOTAL:floppy>', '<Token:MID:lopp>', '<Token:START:flop>', '<Token:END:ppy>', '<Token:END:py>', '<Token:END:loppy>', '<Token:START:ass>', '<Token:MID:ass>', '<Token:START:as>', '<Token:START:assass>', '<Token:START:assassi>', '<Token:END:ssassin>', '<Token:MID:sass>', '<Token:START:assas>', '<Token:START:assa>', '<Token:MID:ssas>', '<Token:MID:assi>', '<Token:END:ssin>', '<Token:TOTAL:assassin>', '<Token:END:assin>', '<Token:MID:sassi>', '<Token:END:sassin>', '<Token:MID:ssassi>', '<Token:MID:sas>', '<Token:MID:ssi>', '<Token:MID:ssass>', '<Token:END:sin>', '<Token:END:pus>', '<Token:START:ham>', '<Token:START:hamp>', '<Token:START:hampu>', '<Token:MID:ampu>', '<Token:END:ampus>', '<Token:MID:mpu>', '<Token:MID:amp>', '<Token:TOTAL:hampus>', '<Token:MID:pu>', '<Token:END:mpus>', '<Token:START:vic>', '<Token:TOTAL:vice>', '<Token:END:unter>', '<Token:TOTAL:hunter>', '<Token:END:nter>', '<Token:START:chr>', '<Token:MID:hris>', '<Token:END:sj>', '<Token:MID:ris>', '<Token:END:risj>', '<Token:START:chris>', '<Token:MID:hri>', '<Token:END:isj>', '<Token:START:chri>', '<Token:END:hrisj>', '<Token:TOTAL:chrisj>', '<Token:START:ch>', '<Token:END:dc>', '<Token:TOTAL:jdc>', '<Token:MID:lfir>', '<Token:MID:nalfir>', '<Token:MID:tern>', '<Token:MID:rna>', '<Token:TOTAL:eternalfire>', '<Token:END:re>', '<Token:END:fire>', '<Token:MID:lfi>', '<Token:END:ternalfire>', '<Token:MID:alfir>', '<Token:MID:ern>', '<Token:START:ete>', '<Token:MID:ir>', '<Token:MID:nalf>', '<Token:MID:terna>', '<Token:MID:ternalf>', '<Token:START:et>', '<Token:MID:ernal>', '<Token:MID:nal>', '<Token:MID:rnalfir>', '<Token:START:eternal>', '<Token:MID:rnal>', '<Token:START:eternalfi>', '<Token:START:eterna>', '<Token:START:eter>', '<Token:END:ire>', '<Token:MID:rn>', '<Token:MID:erna>', '<Token:START:eternalf>', '<Token:END:alfire>', '<Token:MID:ternal>', '<Token:MID:ernalf>', '<Token:MID:ernalfi>', '<Token:MID:alfi>', '<Token:MID:rnalfi>', '<Token:MID:ernalfir>', '<Token:MID:nalfi>', '<Token:MID:ternalfir>', '<Token:MID:fir>', '<Token:END:rnalfire>', '<Token:MID:ternalfi>', '<Token:END:lfire>', '<Token:START:etern>', '<Token:START:eternalfir>', '<Token:END:ernalfire>', '<Token:END:nalfire>', '<Token:MID:rnalf>', '<Token:END:paze>', '<Token:MID:paz>', '<Token:START:spa>', '<Token:START:spaz>', '<Token:TOTAL:spaze>', '<Token:MID:yx>', '<Token:END:san>', '<Token:MID:xs>', '<Token:TOTAL:kyxsan>', '<Token:START:kyxs>', '<Token:START:kyx>', '<Token:START:kyxsa>', '<Token:MID:yxsa>', '<Token:MID:xsa>', '<Token:END:xsan>', '<Token:END:yxsan>', '<Token:START:ky>', '<Token:MID:yxs>', '<Token:TOTAL:jame>', '<Token:START:jam>', '<Token:END:nqie>', '<Token:MID:inqi>', '<Token:MID:inq>', '<Token:START:kinq>', '<Token:END:inqie>', '<Token:START:kinqi>', '<Token:MID:qi>', '<Token:MID:nqi>', '<Token:TOTAL:kinqie>', '<Token:MID:nq>', '<Token:END:qie>', '<Token:END:ay>', '<Token:TOTAL:yay>', '<Token:MID:dro>', '<Token:START:andr>', '<Token:MID:ndroi>', '<Token:END:ndroid>', '<Token:MID:ndr>', '<Token:START:and>', '<Token:END:roid>', '<Token:MID:roi>', '<Token:MID:ndro>', '<Token:MID:droi>', '<Token:START:androi>', '<Token:START:andro>', '<Token:END:droid>', '<Token:TOTAL:android>', '<Token:TOTAL:chelo>', '<Token:END:elo>', '<Token:END:helo>', '<Token:START:chel>', '<Token:START:che>', '<Token:END:lo>', '<Token:MID:hel>', '<Token:MID:rav>', '<Token:MID:vad>', '<Token:TOTAL:bravado>', '<Token:START:bravad>', '<Token:START:brava>', '<Token:END:vado>', '<Token:END:avado>', '<Token:END:do>', '<Token:END:ravado>', '<Token:MID:ravad>', '<Token:MID:avad>', '<Token:START:bra>', '<Token:END:ado>', '<Token:MID:rava>', '<Token:START:brav>', '<Token:END:iren>', '<Token:START:sir>', '<Token:START:sire>', '<Token:TOTAL:siren>', '<Token:MID:ire>', '<Token:MID:tc>', '<Token:END:itch>', '<Token:START:fit>', '<Token:TOTAL:fitch>', '<Token:END:tch>', '<Token:MID:itc>', '<Token:START:fitc>', '<Token:TOTAL:jt>', '<Token:START:denni>', '<Token:END:nnis>', '<Token:START:denn>', '<Token:END:ennis>', '<Token:MID:enni>', '<Token:TOTAL:dennis>', '<Token:END:ingv>', '<Token:TOTAL:kingv>', '<Token:END:ngv>', '<Token:MID:ing>', '<Token:START:king>', '<Token:END:gv>', '<Token:END:orester>', '<Token:START:fore>', '<Token:START:fores>', '<Token:MID:reste>', '<Token:MID:este>', '<Token:END:ester>', '<Token:MID:ore>', '<Token:MID:rest>', '<Token:END:rester>', '<Token:MID:ores>', '<Token:START:foreste>', '<Token:START:forest>', '<Token:MID:est>', '<Token:MID:orest>', '<Token:TOTAL:forester>', '<Token:MID:oreste>', '<Token:START:zer>', '<Token:END:ro>', '<Token:END:ero>', '<Token:TOTAL:zero>', '<Token:END:trick>', '<Token:TOTAL:headtrick>', '<Token:MID:adtri>', '<Token:MID:dt>', '<Token:MID:tri>', '<Token:MID:adtr>', '<Token:MID:dtr>', '<Token:END:adtrick>', '<Token:MID:eadtri>', '<Token:START:hea>', '<Token:MID:adt>', '<Token:START:headtr>', '<Token:START:headtric>', '<Token:MID:eadtric>', '<Token:MID:eadtr>', '<Token:START:head>', '<Token:MID:dtri>', '<Token:MID:dtric>', '<Token:START:headtri>', '<Token:MID:adtric>', '<Token:MID:eadt>', '<Token:END:eadtrick>', '<Token:END:dtrick>', '<Token:START:headt>', '<Token:MID:tric>', '<Token:MID:ja>', '<Token:START:kjaerby>', '<Token:START:kja>', '<Token:MID:jaerby>', '<Token:MID:jaerb>', '<Token:END:ye>', '<Token:START:kj>', '<Token:END:erbye>', '<Token:END:rbye>', '<Token:START:kjaerb>', '<Token:MID:aerb>', '<Token:START:kjae>', '<Token:TOTAL:kjaerbye>', '<Token:MID:aerby>', '<Token:MID:jae>', '<Token:START:kjaer>', '<Token:MID:erb>', '<Token:MID:erby>', '<Token:MID:rby>', '<Token:END:jaerbye>', '<Token:MID:aer>', '<Token:MID:jaer>', '<Token:END:bye>', '<Token:END:aerbye>', '<Token:MID:by>', '<Token:START:sho>', '<Token:TOTAL:shox>', '<Token:END:hox>', '<Token:START:snatchi>', '<Token:MID:atchi>', '<Token:END:tchie>', '<Token:MID:atc>', '<Token:END:hie>', '<Token:START:snatc>', '<Token:MID:atch>', '<Token:MID:natc>', '<Token:MID:tch>', '<Token:END:atchie>', '<Token:MID:chi>', '<Token:MID:natch>', '<Token:TOTAL:snatchie>', '<Token:END:natchie>', '<Token:END:chie>', '<Token:START:snat>', '<Token:MID:tchi>', '<Token:MID:natchi>', '<Token:START:snatch>', '<Token:END:zki>', '<Token:START:tenzk>', '<Token:END:enzki>', '<Token:MID:enzk>', '<Token:MID:nz>', '<Token:MID:nzk>', '<Token:START:ten>', '<Token:TOTAL:tenzki>', '<Token:START:tenz>', '<Token:MID:enz>', '<Token:MID:zk>', '<Token:END:nzki>', '<Token:TOTAL:kito>', '<Token:START:kit>', '<Token:END:ito>', '<Token:END:des>', '<Token:END:ades>', '<Token:START:hade>', '<Token:START:had>', '<Token:TOTAL:hades>', '<Token:MID:ade>', '<Token:START:li>', '<Token:TOTAL:lit>', '<Token:TOTAL:woxic>', '<Token:START:wox>', '<Token:START:woxi>', '<Token:END:xic>', '<Token:END:oxic>', '<Token:MID:oxi>', '<Token:MID:adia>', '<Token:END:adian>', '<Token:START:cadi>', '<Token:TOTAL:cadian>', '<Token:START:cad>', '<Token:MID:dia>', '<Token:MID:adi>', '<Token:START:cadia>', '<Token:END:dian>', '<Token:START:hal>', '<Token:START:hallze>', '<Token:MID:llze>', '<Token:MID:lze>', '<Token:MID:allzer>', '<Token:START:hallz>', '<Token:MID:allze>', '<Token:MID:lzer>', '<Token:START:hallzer>', '<Token:END:zerk>', '<Token:MID:lz>', '<Token:MID:llzer>', '<Token:END:lzerk>', '<Token:END:rk>', '<Token:TOTAL:hallzerk>', '<Token:MID:llz>', '<Token:START:hall>', '<Token:END:llzerk>', '<Token:MID:allz>', '<Token:END:erk>', '<Token:END:allzerk>', '<Token:TOTAL:james>', '<Token:END:ames>', '<Token:START:jame>', '<Token:END:mes>', '<Token:MID:ype>', '<Token:START:hype>', '<Token:TOTAL:hyper>', '<Token:START:hy>', '<Token:START:hyp>', '<Token:END:per>', '<Token:END:yper>', '<Token:START:imo>', '<Token:START:imor>', '<Token:END:morr>', '<Token:START:im>', '<Token:TOTAL:imorr>', '<Token:END:orr>', '<Token:END:rr>', '<Token:MID:mor>', '<Token:MID:hok>', '<Token:START:zhok>', '<Token:TOTAL:zhoking>', '<Token:MID:hokin>', '<Token:START:zhokin>', '<Token:MID:oki>', '<Token:MID:okin>', '<Token:START:zhoki>', '<Token:END:oking>', '<Token:MID:hoki>', '<Token:END:king>', '<Token:END:hoking>', '<Token:START:zho>', '<Token:START:zh>', '<Token:MID:kin>', '<Token:MID:mei>', '<Token:END:meister>', '<Token:END:ofmeister>', '<Token:MID:ofm>', '<Token:MID:ofmeist>', '<Token:START:ol>', '<Token:MID:meis>', '<Token:START:olof>', '<Token:START:olofme>', '<Token:MID:fmeis>', '<Token:MID:lofm>', '<Token:MID:lofme>', '<Token:START:olofmeiste>', '<Token:END:fmeister>', '<Token:MID:meist>', '<Token:MID:eiste>', '<Token:MID:ofmeiste>', '<Token:MID:fmeiste>', '<Token:MID:ofmeis>', '<Token:START:olo>', '<Token:START:olofmei>', '<Token:END:ister>', '<Token:MID:ofmei>', '<Token:MID:eis>', '<Token:TOTAL:olofmeister>', '<Token:END:lofmeister>', '<Token:MID:meiste>', '<Token:MID:ofme>', '<Token:START:olofmeist>', '<Token:MID:fmei>', '<Token:START:olofmeis>', '<Token:END:eister>', '<Token:MID:fm>', '<Token:MID:fmeist>', '<Token:MID:lofmeis>', '<Token:MID:lofmeist>', '<Token:MID:eist>', '<Token:START:olofm>', '<Token:MID:lofmeiste>', '<Token:MID:fme>', '<Token:MID:iste>', '<Token:MID:lofmei>', '<Token:START:gna>', '<Token:TOTAL:gnar>', '<Token:END:nar>', '<Token:START:gn>', '<Token:END:az>', '<Token:TOTAL:paz>', '<Token:TOTAL:ins>', '<Token:MID:acecr>', '<Token:END:acecrack>', '<Token:MID:ecr>', '<Token:MID:rac>', '<Token:TOTAL:facecrack>', '<Token:END:ecrack>', '<Token:MID:cra>', '<Token:MID:acecra>', '<Token:MID:ecra>', '<Token:MID:ecrac>', '<Token:MID:cecr>', '<Token:MID:ace>', '<Token:MID:cecrac>', '<Token:MID:acec>', '<Token:MID:acecrac>', '<Token:START:facecr>', '<Token:START:facecrac>', '<Token:END:crack>', '<Token:START:face>', '<Token:END:rack>', '<Token:MID:crac>', '<Token:MID:cecra>', '<Token:START:fac>', '<Token:MID:cec>', '<Token:START:facecra>', '<Token:START:facec>', '<Token:END:cecrack>', '<Token:END:yko>', '<Token:MID:tyk>', '<Token:START:styk>', '<Token:TOTAL:styko>', '<Token:START:sty>', '<Token:END:tyko>', '<Token:MID:ty>', '<Token:MID:yk>', '<Token:TOTAL:shiro>', '<Token:MID:hir>', '<Token:END:iro>', '<Token:END:hiro>', '<Token:START:shir>', '<Token:START:shi>', '<Token:MID:nyblac>', '<Token:TOTAL:tonyblack>', '<Token:MID:onyblac>', '<Token:END:yblack>', '<Token:MID:yblac>', '<Token:END:lack>', '<Token:START:tonybla>', '<Token:START:ton>', '<Token:MID:nyb>', '<Token:MID:nybla>', '<Token:END:onyblack>', '<Token:MID:ony>', '<Token:START:tonyblac>', '<Token:MID:lac>', '<Token:MID:yb>', '<Token:MID:ybl>', '<Token:MID:onybla>', '<Token:END:nyblack>', '<Token:START:tonyb>', '<Token:MID:nybl>', '<Token:START:tonybl>', '<Token:MID:ybla>', '<Token:START:tony>', '<Token:MID:onyb>', '<Token:MID:blac>', '<Token:END:black>', '<Token:MID:bla>', '<Token:MID:onybl>', '<Token:START:dext>', '<Token:MID:exte>', '<Token:MID:xte>', '<Token:MID:xt>', '<Token:START:dex>', '<Token:END:exter>', '<Token:TOTAL:dexter>', '<Token:END:xter>', '<Token:START:dexte>', '<Token:MID:ext>', '<Token:START:made>', '<Token:END:aden>', '<Token:START:mad>', '<Token:TOTAL:maden>', '<Token:END:cky>', '<Token:MID:uck>', '<Token:START:luck>', '<Token:END:ucky>', '<Token:TOTAL:lucky>', '<Token:TOTAL:karrigan>', '<Token:MID:rriga>', '<Token:MID:arri>', '<Token:START:karri>', '<Token:MID:ga>', '<Token:END:rigan>', '<Token:START:karriga>', '<Token:MID:arrig>', '<Token:MID:rig>', '<Token:START:karr>', '<Token:MID:arr>', '<Token:END:gan>', '<Token:MID:rri>', '<Token:MID:rrig>', '<Token:MID:iga>', '<Token:MID:riga>', '<Token:MID:arriga>', '<Token:END:arrigan>', '<Token:END:rrigan>', '<Token:START:karrig>', '<Token:END:igan>', '<Token:END:pk>', '<Token:TOTAL:rpk>', '<Token:START:rp>', '<Token:MID:x6>', '<Token:MID:x6ten>', '<Token:START:ex6te>', '<Token:END:enz>', '<Token:END:6tenz>', '<Token:END:tenz>', '<Token:MID:6te>', '<Token:MID:6ten>', '<Token:END:x6tenz>', '<Token:START:ex6t>', '<Token:MID:ten>', '<Token:MID:x6te>', '<Token:START:ex6>', '<Token:MID:x6t>', '<Token:TOTAL:ex6tenz>', '<Token:START:ex6ten>', '<Token:MID:6t>', '<Token:TOTAL:msl>', '<Token:START:ms>', '<Token:END:sl>', '<Token:MID:erti>', '<Token:TOTAL:xertion>', '<Token:END:ertion>', '<Token:START:xertio>', '<Token:START:xe>', '<Token:START:xer>', '<Token:MID:rti>', '<Token:END:rtion>', '<Token:START:xert>', '<Token:START:xerti>', '<Token:MID:rtio>', '<Token:MID:ertio>', '<Token:END:af>', '<Token:TOTAL:naf>', '<Token:MID:ashabice>', '<Token:END:shabiceps>', '<Token:MID:ashabicep>', '<Token:END:biceps>', '<Token:END:ceps>', '<Token:MID:ashabic>', '<Token:MID:cep>', '<Token:MID:shabice>', '<Token:START:pas>', '<Token:START:pashabic>', '<Token:MID:shab>', '<Token:MID:shabi>', '<Token:START:pashabicep>', '<Token:MID:abic>', '<Token:MID:habice>', '<Token:MID:ashabi>', '<Token:START:pashabice>', '<Token:END:eps>', '<Token:MID:icep>', '<Token:MID:ice>', '<Token:MID:abicep>', '<Token:END:abiceps>', '<Token:MID:habi>', '<Token:MID:abi>', '<Token:MID:shabic>', '<Token:START:pash>', '<Token:MID:habic>', '<Token:MID:ashab>', '<Token:MID:bic>', '<Token:MID:habicep>', '<Token:START:pashab>', '<Token:MID:bicep>', '<Token:MID:shabicep>', '<Token:MID:bice>', '<Token:MID:abice>', '<Token:END:habiceps>', '<Token:MID:hab>', '<Token:END:ashabiceps>', '<Token:MID:asha>', '<Token:TOTAL:pashabiceps>', '<Token:END:iceps>', '<Token:START:pashabi>', '<Token:START:pasha>', '<Token:MID:yoji>', '<Token:END:jin>', '<Token:START:kyoj>', '<Token:END:ojin>', '<Token:START:kyoji>', '<Token:MID:ji>', '<Token:END:yojin>', '<Token:MID:oji>', '<Token:START:kyo>', '<Token:MID:oj>', '<Token:MID:yoj>', '<Token:TOTAL:kyojin>', '<Token:START:bud>', '<Token:TOTAL:buda>', '<Token:END:da>', '<Token:END:uda>', '<Token:TOTAL:x>', '<Token:TOTAL:jks>', '<Token:END:ks>', '<Token:END:alyx>', '<Token:END:yx>', '<Token:TOTAL:calyx>', '<Token:MID:aly>', '<Token:END:lyx>', '<Token:MID:ly>', '<Token:START:cal>', '<Token:START:caly>', '<Token:MID:nype>', '<Token:START:snype>', '<Token:TOTAL:snyper>', '<Token:START:sny>', '<Token:MID:nyp>', '<Token:END:nyper>', '<Token:START:snyp>', '<Token:END:veyy>', '<Token:END:oveyy>', '<Token:MID:vey>', '<Token:START:lovey>', '<Token:END:eyy>', '<Token:TOTAL:loveyy>', '<Token:START:lov>', '<Token:START:love>', '<Token:MID:ovey>', '<Token:TOTAL:r>', '<Token:START:jab>', '<Token:MID:abb>', '<Token:END:bbi>', '<Token:START:jabb>', '<Token:END:abbi>', '<Token:TOTAL:jabbi>', '<Token:END:bi>', '<Token:END:kindar>', '<Token:END:ndar>', '<Token:START:yekin>', '<Token:TOTAL:yekindar>', '<Token:END:ekindar>', '<Token:END:indar>', '<Token:END:dar>', '<Token:MID:ekind>', '<Token:MID:kinda>', '<Token:MID:ekin>', '<Token:MID:ind>', '<Token:MID:da>', '<Token:MID:nda>', '<Token:MID:inda>', '<Token:MID:ekinda>', '<Token:START:yekinda>', '<Token:START:yek>', '<Token:START:yeki>', '<Token:START:yekind>', '<Token:MID:kind>', '<Token:END:yrson>', '<Token:START:sy>', '<Token:START:syrso>', '<Token:END:son>', '<Token:TOTAL:syrson>', '<Token:MID:yrso>', '<Token:START:syrs>', '<Token:END:rson>', '<Token:MID:yr>', '<Token:MID:yrs>', '<Token:START:syr>', '<Token:MID:rso>', '<Token:END:op>', '<Token:START:dro>', '<Token:TOTAL:drop>', '<Token:END:rop>', '<Token:START:dr>', '<Token:TOTAL:boltz>', '<Token:START:bolt>', '<Token:END:ltz>', '<Token:END:oltz>', '<Token:START:bol>', '<Token:MID:olt>', '<Token:MID:ira>', '<Token:MID:ran>', '<Token:END:iranto>', '<Token:MID:rant>', '<Token:START:espi>', '<Token:END:piranto>', '<Token:START:espirant>', '<Token:MID:piran>', '<Token:MID:pirant>', '<Token:MID:spira>', '<Token:START:espir>', '<Token:MID:spi>', '<Token:MID:spir>', '<Token:MID:irant>', '<Token:MID:pira>', '<Token:END:ranto>', '<Token:MID:spirant>', '<Token:MID:iran>', '<Token:END:nto>', '<Token:START:espiran>', '<Token:END:anto>', '<Token:MID:pir>', '<Token:MID:spiran>', '<Token:TOTAL:espiranto>', '<Token:MID:sp>', '<Token:START:esp>', '<Token:START:espira>', '<Token:END:spiranto>', '<Token:END:ratata>', '<Token:MID:atat>', '<Token:END:tata>', '<Token:MID:tat>', '<Token:START:grata>', '<Token:MID:ata>', '<Token:MID:ratat>', '<Token:MID:rata>', '<Token:END:ata>', '<Token:END:atata>', '<Token:START:gra>', '<Token:TOTAL:gratata>', '<Token:START:grat>', '<Token:START:gratat>', '<Token:TOTAL:hs>', '<Token:END:istzz>', '<Token:MID:istz>', '<Token:MID:tz>', '<Token:TOTAL:twistzz>', '<Token:END:tzz>', '<Token:MID:wistz>', '<Token:START:twist>', '<Token:MID:stz>', '<Token:END:wistzz>', '<Token:START:twistz>', '<Token:END:stzz>', '<Token:MID:wist>', '<Token:END:zz>', '<Token:TOTAL:taz>', '<Token:END:ajer>', '<Token:END:jer>', '<Token:START:maje>', '<Token:START:maj>', '<Token:MID:aje>', '<Token:TOTAL:majer>', '<Token:MID:je>', '<Token:START:s0t>', '<Token:MID:0tfi>', '<Token:MID:0tf>', '<Token:MID:tf>', '<Token:END:tfik>', '<Token:TOTAL:s0tfik>', '<Token:START:s0tfi>', '<Token:MID:tfi>', '<Token:END:0tfik>', '<Token:END:fik>', '<Token:START:s0tf>', '<Token:START:s0>', '<Token:END:than>', '<Token:END:han>', '<Token:START:eth>', '<Token:START:etha>', '<Token:TOTAL:ethan>', '<Token:MID:tha>', '<Token:START:kras>', '<Token:END:rasnal>', '<Token:MID:sn>', '<Token:MID:sna>', '<Token:END:snal>', '<Token:MID:ras>', '<Token:END:nal>', '<Token:MID:asna>', '<Token:END:asnal>', '<Token:MID:rasn>', '<Token:MID:asn>', '<Token:START:krasn>', '<Token:START:krasna>', '<Token:TOTAL:krasnal>', '<Token:MID:rasna>', '<Token:END:thzz>', '<Token:MID:ith>', '<Token:END:mithzz>', '<Token:MID:ithz>', '<Token:START:smi>', '<Token:MID:mithz>', '<Token:START:smithz>', '<Token:TOTAL:smithzz>', '<Token:END:ithzz>', '<Token:START:smit>', '<Token:MID:mit>', '<Token:END:hzz>', '<Token:MID:thz>', '<Token:MID:mith>', '<Token:START:smith>', '<Token:START:flame>', '<Token:END:mez>', '<Token:END:lamez>', '<Token:END:amez>', '<Token:TOTAL:flamez>', '<Token:END:even>', '<Token:END:ven>', '<Token:START:xsev>', '<Token:TOTAL:xseven>', '<Token:START:xs>', '<Token:START:xse>', '<Token:START:xseve>', '<Token:MID:sev>', '<Token:MID:seve>', '<Token:END:seven>', '<Token:START:spu>', '<Token:END:unj>', '<Token:END:punj>', '<Token:TOTAL:spunj>', '<Token:END:nj>', '<Token:START:spun>', '<Token:MID:pun>', '<Token:START:qik>', '<Token:START:qike>', '<Token:TOTAL:qikert>', '<Token:START:q>', '<Token:END:kert>', '<Token:END:ert>', '<Token:START:qiker>', '<Token:MID:ker>', '<Token:END:ikert>', '<Token:START:qi>', '<Token:MID:iker>', '<Token:MID:uardia>', '<Token:MID:uardi>', '<Token:MID:ardi>', '<Token:MID:uard>', '<Token:MID:ardia>', '<Token:END:rdian>', '<Token:MID:rdia>', '<Token:MID:rdi>', '<Token:START:guardi>', '<Token:START:gua>', '<Token:START:guar>', '<Token:START:guardia>', '<Token:START:gu>', '<Token:END:ardian>', '<Token:END:uardian>', '<Token:TOTAL:guardian>', '<Token:MID:uar>', '<Token:START:guard>', '<Token:START:no>', '<Token:END:orwi>', '<Token:START:nor>', '<Token:END:wi>', '<Token:END:rwi>', '<Token:MID:rw>', '<Token:MID:orw>', '<Token:START:norw>', '<Token:TOTAL:norwi>', '<Token:END:stiny>', '<Token:START:destin>', '<Token:TOTAL:destiny>', '<Token:MID:esti>', '<Token:MID:stin>', '<Token:START:dest>', '<Token:START:desti>', '<Token:END:tiny>', '<Token:END:iny>', '<Token:START:des>', '<Token:MID:estin>', '<Token:MID:tin>', '<Token:END:estiny>', '<Token:MID:fan>', '<Token:END:afany>', '<Token:START:nafa>', '<Token:END:fany>', '<Token:START:nafan>', '<Token:TOTAL:nafany>', '<Token:END:any>', '<Token:START:naf>', '<Token:MID:afa>', '<Token:MID:afan>', '<Token:MID:ax>', '<Token:END:xz->', '<Token:END:laxz->', '<Token:TOTAL:slaxz->', '<Token:END:z->', '<Token:START:slaxz>', '<Token:START:slax>', '<Token:MID:xz>', '<Token:MID:laxz>', '<Token:MID:lax>', '<Token:START:sl>', '<Token:START:sla>', '<Token:MID:axz>', '<Token:END:axz->', '<Token:TOTAL:gl>', '<Token:TOTAL:neo>', '<Token:END:eo>', '<Token:MID:ang@>', '<Token:MID:ang@re>', '<Token:MID:eang>', '<Token:MID:g@re>', '<Token:MID:ng@r>', '<Token:MID:@>', '<Token:MID:ean>', '<Token:MID:eang@r>', '<Token:END:g@res>', '<Token:MID:ng@>', '<Token:END:eang@res>', '<Token:START:sea>', '<Token:MID:eang@>', '<Token:MID:eang@re>', '<Token:START:seang@re>', '<Token:MID:g@>', '<Token:TOTAL:seang@res>', '<Token:START:sean>', '<Token:END:@res>', '<Token:MID:ng@re>', '<Token:MID:ang@r>', '<Token:MID:@r>', '<Token:MID:g@r>', '<Token:END:ng@res>', '<Token:END:ang@res>', '<Token:MID:ang>', '<Token:START:seang@>', '<Token:START:seang>', '<Token:START:seang@r>', '<Token:MID:@re>', '<Token:START:auma>', '<Token:MID:uma>', '<Token:END:uman>', '<Token:START:aum>', '<Token:TOTAL:auman>', '<Token:END:mau>', '<Token:END:au>', '<Token:START:duma>', '<Token:END:umau>', '<Token:START:dum>', '<Token:TOTAL:dumau>', '<Token:MID:icke>', '<Token:START:rick>', '<Token:TOTAL:rickeh>', '<Token:START:ricke>', '<Token:END:ickeh>', '<Token:END:keh>', '<Token:END:ckeh>', '<Token:START:ric>', '<Token:END:oom>', '<Token:TOTAL:boom>', '<Token:END:om>', '<Token:START:w0nderfu>', '<Token:MID:nderfu>', '<Token:TOTAL:w0nderful>', '<Token:END:0nderful>', '<Token:START:w0nder>', '<Token:MID:nder>', '<Token:MID:fu>', '<Token:END:nderful>', '<Token:START:w0n>', '<Token:END:rful>', '<Token:END:derful>', '<Token:MID:0nd>', '<Token:MID:rfu>', '<Token:START:w0>', '<Token:START:w0nde>', '<Token:END:erful>', '<Token:MID:nderf>', '<Token:START:w0nderf>', '<Token:START:w0nd>', '<Token:MID:der>', '<Token:MID:0nder>', '<Token:MID:0nderf>', '<Token:MID:derf>', '<Token:MID:erfu>', '<Token:MID:0nderfu>', '<Token:MID:0nde>', '<Token:MID:derfu>', '<Token:END:ful>', '<Token:END:ul>', '<Token:START:stav>', '<Token:TOTAL:stavn>', '<Token:END:avn>', '<Token:END:vn>', '<Token:END:tavn>', '<Token:MID:tav>', '<Token:TOTAL:nex>', '<Token:END:ccurate>', '<Token:MID:ccur>', '<Token:END:rate>', '<Token:START:xc>', '<Token:START:xccu>', '<Token:START:xccur>', '<Token:MID:cc>', '<Token:MID:ura>', '<Token:END:curate>', '<Token:MID:ccura>', '<Token:MID:ccurat>', '<Token:MID:cu>', '<Token:MID:cura>', '<Token:MID:ccu>', '<Token:MID:urat>', '<Token:START:xccura>', '<Token:MID:cur>', '<Token:END:ate>', '<Token:START:xcc>', '<Token:TOTAL:xccurate>', '<Token:END:urate>', '<Token:START:xccurat>', '<Token:MID:curat>', '<Token:START:rus>', '<Token:TOTAL:rush>', '<Token:END:xa>', '<Token:START:nex>', '<Token:END:exa>', '<Token:TOTAL:nexa>', '<Token:TOTAL:kei>', '<Token:START:ab>', '<Token:TOTAL:abe>', '<Token:END:be>', '<Token:TOTAL:fnx>', '<Token:MID:rak>', '<Token:END:raken>', '<Token:MID:rake>', '<Token:MID:ake>', '<Token:TOTAL:draken>', '<Token:START:dra>', '<Token:END:aken>', '<Token:START:drak>', '<Token:START:drake>', '<Token:MID:l0u>', '<Token:END:0ud>', '<Token:MID:l0>', '<Token:MID:fl0u>', '<Token:MID:fl0>', '<Token:START:xfl0>', '<Token:START:xfl0u>', '<Token:START:xfl>', '<Token:MID:0u>', '<Token:START:xf>', '<Token:END:l0ud>', '<Token:TOTAL:xfl0ud>', '<Token:END:fl0ud>', '<Token:TOTAL:a>', '<Token:MID:oost>', '<Token:START:koost>', '<Token:END:osta>', '<Token:END:sta>', '<Token:MID:oos>', '<Token:MID:ost>', '<Token:END:oosta>', '<Token:TOTAL:koosta>', '<Token:START:koo>', '<Token:START:koos>', '<Token:END:aco>', '<Token:TOTAL:taco>', '<Token:START:tac>', '<Token:MID:man>', '<Token:END:manek>', '<Token:START:am>', '<Token:END:nek>', '<Token:END:anek>', '<Token:START:ama>', '<Token:START:amane>', '<Token:TOTAL:amanek>', '<Token:MID:ane>', '<Token:START:aman>', '<Token:MID:mane>', '<Token:START:get>', '<Token:MID:_rig>', '<Token:START:get_>', '<Token:END:_right>', '<Token:MID:t_rig>', '<Token:START:get_righ>', '<Token:MID:igh>', '<Token:MID:_r>', '<Token:MID:et_r>', '<Token:END:t_right>', '<Token:MID:_ri>', '<Token:MID:t_ri>', '<Token:MID:righ>', '<Token:MID:_righ>', '<Token:TOTAL:get_right>', '<Token:MID:et_rig>', '<Token:MID:t_r>', '<Token:START:ge>', '<Token:START:get_ri>', '<Token:END:ight>', '<Token:MID:t_>', '<Token:END:ht>', '<Token:START:get_rig>', '<Token:END:right>', '<Token:MID:et_>', '<Token:END:et_right>', '<Token:END:ght>', '<Token:MID:t_righ>', '<Token:MID:et_righ>', '<Token:START:get_r>', '<Token:MID:et_ri>', '<Token:MID:gh>', '<Token:MID:epo>', '<Token:MID:sepow>', '<Token:END:sepower>', '<Token:MID:epowe>', '<Token:MID:powe>', '<Token:MID:sep>', '<Token:MID:pow>', '<Token:MID:po>', '<Token:START:xsepowe>', '<Token:START:xsep>', '<Token:START:xsepow>', '<Token:END:ower>', '<Token:MID:sepowe>', '<Token:TOTAL:xsepower>', '<Token:END:power>', '<Token:MID:epow>', '<Token:START:xsepo>', '<Token:END:wer>', '<Token:MID:sepo>', '<Token:END:epower>', '<Token:START:abl>', '<Token:START:able>', '<Token:TOTAL:ablej>', '<Token:END:blej>', '<Token:END:lej>', '<Token:MID:ble>', '<Token:START:ary>', '<Token:END:rya>', '<Token:TOTAL:arya>', '<Token:START:aiz>', '<Token:TOTAL:aizy>', '<Token:START:ai>', '<Token:END:izy>', '<Token:START:jaso>', '<Token:MID:ason>', '<Token:START:jas>', '<Token:END:sonr>', '<Token:MID:son>', '<Token:START:jason>', '<Token:END:asonr>', '<Token:END:onr>', '<Token:END:nr>', '<Token:MID:aso>', '<Token:TOTAL:jasonr>', '<Token:END:eofrag>', '<Token:MID:fra>', '<Token:END:rag>', '<Token:MID:eof>', '<Token:MID:eofra>', '<Token:MID:ofra>', '<Token:MID:eo>', '<Token:START:neof>', '<Token:TOTAL:neofrag>', '<Token:MID:eofr>', '<Token:MID:ofr>', '<Token:START:neofra>', '<Token:END:ofrag>', '<Token:START:neo>', '<Token:START:neofr>', '<Token:END:frag>', '<Token:END:idi>', '<Token:MID:ii>', '<Token:START:spiid>', '<Token:START:spii>', '<Token:MID:piid>', '<Token:END:di>', '<Token:TOTAL:spiidi>', '<Token:MID:iid>', '<Token:END:iidi>', '<Token:END:piidi>', '<Token:MID:pii>', '<Token:END:imasick>', '<Token:START:dimasi>', '<Token:MID:asic>', '<Token:END:sick>', '<Token:MID:imas>', '<Token:START:dima>', '<Token:MID:sic>', '<Token:END:masick>', '<Token:MID:asi>', '<Token:END:asick>', '<Token:MID:masic>', '<Token:START:dimasic>', '<Token:MID:masi>', '<Token:MID:mas>', '<Token:TOTAL:dimasick>', '<Token:MID:imasic>', '<Token:MID:imasi>', '<Token:START:dimas>', '<Token:START:fav>', '<Token:END:aven>', '<Token:START:fave>', '<Token:TOTAL:faven>', '<Token:END:stilo>', '<Token:MID:stil>', '<Token:MID:til>', '<Token:START:u>', '<Token:TOTAL:ustilo>', '<Token:END:ilo>', '<Token:START:ust>', '<Token:START:usti>', '<Token:END:tilo>', '<Token:START:ustil>', '<Token:START:us>', '<Token:START:xiz>', '<Token:END:zt>', '<Token:END:izt>', '<Token:START:xi>', '<Token:TOTAL:xizt>', '<Token:TOTAL:dat>', '<Token:END:opper>', '<Token:MID:hop>', '<Token:MID:oppe>', '<Token:END:hopper>', '<Token:START:chopp>', '<Token:MID:ppe>', '<Token:MID:hopp>', '<Token:TOTAL:chopper>', '<Token:MID:hoppe>', '<Token:START:chop>', '<Token:END:pper>', '<Token:START:choppe>', '<Token:START:cho>', '<Token:START:stee>', '<Token:MID:tee>', '<Token:END:eel>', '<Token:TOTAL:steel>', '<Token:END:teel>', '<Token:TOTAL:s>', '<Token:END:iazz>', '<Token:START:liaz>', '<Token:END:azz>', '<Token:MID:iaz>', '<Token:START:lia>', '<Token:TOTAL:liazz>', '<Token:START:ve>', '<Token:START:vexit>', '<Token:START:vexi>', '<Token:END:exite>', '<Token:START:vex>', '<Token:END:xite>', '<Token:TOTAL:vexite>', '<Token:END:ite>', '<Token:MID:xe>', '<Token:TOTAL:sixer>', '<Token:START:six>', '<Token:END:xer>', '<Token:END:ixer>', '<Token:START:sixe>', '<Token:MID:ixe>', '<Token:MID:uurtl>', '<Token:END:uurtle>', '<Token:START:tuurt>', '<Token:START:tu>', '<Token:END:rtle>', '<Token:MID:urt>', '<Token:MID:uurt>', '<Token:TOTAL:tuurtle>', '<Token:END:urtle>', '<Token:MID:rtl>', '<Token:MID:urtl>', '<Token:START:tuurtl>', '<Token:START:tuu>', '<Token:END:tle>', '<Token:START:tuur>', '<Token:START:kyla>', '<Token:END:lar>', '<Token:START:kyl>', '<Token:TOTAL:kylar>', '<Token:END:ylar>', '<Token:END:pz>', '<Token:END:opz>', '<Token:TOTAL:ropz>', '<Token:START:rop>', '<Token:TOTAL:happy>', '<Token:END:appy>', '<Token:START:hap>', '<Token:START:happ>', '<Token:TOTAL:keoz>', '<Token:END:eoz>', '<Token:START:keo>', '<Token:START:siuh>', '<Token:END:hy>', '<Token:TOTAL:siuhy>', '<Token:MID:uh>', '<Token:END:iuhy>', '<Token:MID:iuh>', '<Token:START:siu>', '<Token:MID:iu>', '<Token:END:uhy>', '<Token:MID:noce>', '<Token:END:ocent>', '<Token:START:inn>', '<Token:END:nocent>', '<Token:START:innoc>', '<Token:START:inno>', '<Token:MID:nnoc>', '<Token:END:nnocent>', '<Token:MID:cen>', '<Token:END:cent>', '<Token:MID:nnocen>', '<Token:MID:nocen>', '<Token:MID:nnoce>', '<Token:MID:oce>', '<Token:START:innoce>', '<Token:START:innocen>', '<Token:TOTAL:innocent>', '<Token:MID:ocen>', '<Token:MID:noc>'])"
      ]
     },
     "execution_count": 34,
     "metadata": {},
     "output_type": "execute_result"
    }
   ],
   "source": [
    "tokenizer_map.keys()"
   ]
  },
  {
   "cell_type": "code",
   "execution_count": 35,
   "metadata": {},
   "outputs": [],
   "source": [
    "from typing import List\n",
    "from itertools import product\n",
    "import numpy as np\n",
    "from pprint import pprint\n",
    "\n",
    "\n",
    "def with_other(parse_tokens: List[str]):\n",
    "\n",
    "    def aplit(parse: str):\n",
    "        token_possibilities = []\n",
    "        for token_loc in (Token.start, Token.end, Token.mid, Token.total):\n",
    "            token_possibilities.append(Token(parse, None, None, token_loc))\n",
    "        return token_possibilities\n",
    "    all_possible_for_each_tok = []\n",
    "    for token in parse_tokens:\n",
    "        all_possible_for_each_tok.append(aplit(token))\n",
    "    return all_possible_for_each_tok\n",
    "\n",
    "\n",
    "def stickerfy_word(word: str):\n",
    "\n",
    "    groupings = group_letters(word)\n",
    "    groupings = [combo for combo in groupings if len(combo) <= 5]\n",
    "\n",
    "    results = []\n",
    "    for group in groupings:\n",
    "        groupingWithLoc = with_other(group)\n",
    "\n",
    "        # Create all possible combinations of one element from each sublist\n",
    "        allGroupingPermutations = list(product(*groupingWithLoc))\n",
    "\n",
    "        idx_to_keep = []\n",
    "        for combo_idx, combo in enumerate(allGroupingPermutations):\n",
    "            status = True\n",
    "            if len(combo) > 5:\n",
    "                continue\n",
    "            for lst, t in enumerate(combo):\n",
    "                if lst-1 >= 0:\n",
    "                    current_token = t\n",
    "                    last_token = combo[lst-1]\n",
    "\n",
    "                    if not check_viability(last_token, current_token):\n",
    "                        status = False\n",
    "                        break\n",
    "            if status:\n",
    "                idx_to_keep.append(combo_idx)\n",
    "\n",
    "        # idx_to_keep = list(set(idx_to_keep))\n",
    "\n",
    "        allGroupingPermutations = np.array(\n",
    "            allGroupingPermutations, dtype=object)\n",
    "        filtered_all_combinations = allGroupingPermutations[idx_to_keep]\n",
    "\n",
    "        aggregated_list = []\n",
    "        combo_set = []\n",
    "        for combo in filtered_all_combinations:\n",
    "\n",
    "            stickers_matching_tokens = []\n",
    "            status = True\n",
    "            for positionalToken in combo:\n",
    "                # check if token exists\n",
    "                list_of_players_match = tokenizer_map.get(positionalToken, None)\n",
    "\n",
    "                if list_of_players_match != None:\n",
    "                    stickers_matching_tokens.append(list_of_players_match)\n",
    "\n",
    "                else:\n",
    "                    status = False\n",
    "\n",
    "            if status:\n",
    "                stickers_needed = len(combo)\n",
    "\n",
    "                if (combo[0].loc is Token.end) or (combo[0].loc is Token.mid):\n",
    "                    stickers_needed += 1\n",
    "                if (combo[-1].loc is Token.start) or (combo[-1].loc is Token.mid):\n",
    "                    stickers_needed += 1\n",
    "\n",
    "                if stickers_needed > 5:\n",
    "                    continue\n",
    "                combo_set.append(combo)\n",
    "                aggregated_list.append(stickers_matching_tokens)\n",
    "\n",
    "        if (len(combo_set) > 0):\n",
    "\n",
    "            for k, comb in enumerate(combo_set):\n",
    "\n",
    "                possible_text_split = []\n",
    "                for lst, j in zip(aggregated_list[k], comb):\n",
    "\n",
    "                    matched_part = j.text\n",
    "                    matched_loc = j.loc\n",
    "\n",
    "                    matching_stickers = lst\n",
    "\n",
    "                    sticker_objects_to_append = []\n",
    "\n",
    "                    sticker_token_to_add = {\n",
    "                        \"matchedPart\": matched_part,\n",
    "                        \"matchedLoc\": matched_loc,\n",
    "                        \"stickers\": matching_stickers\n",
    "                    }\n",
    "\n",
    "                    possible_text_split.append(sticker_token_to_add)\n",
    "\n",
    "                results.append(possible_text_split)\n",
    "    return results"
   ]
  },
  {
   "cell_type": "code",
   "execution_count": 19,
   "metadata": {},
   "outputs": [
    {
     "data": {
      "text/plain": [
       "60"
      ]
     },
     "execution_count": 19,
     "metadata": {},
     "output_type": "execute_result"
    }
   ],
   "source": [
    "tokenizer_map[Token(\"fn\", None, None, Token.start)].__len__()"
   ]
  },
  {
   "cell_type": "markdown",
   "metadata": {},
   "source": [
    "# Spell Out `word`\n"
   ]
  },
  {
   "cell_type": "code",
   "execution_count": 20,
   "metadata": {},
   "outputs": [],
   "source": [
    "word = \"apple\"\n",
    "res = stickerfy_word(word)"
   ]
  },
  {
   "cell_type": "markdown",
   "metadata": {},
   "source": [
    "### Make small sticker_id --> sticker map\n"
   ]
  },
  {
   "cell_type": "code",
   "execution_count": 41,
   "metadata": {},
   "outputs": [],
   "source": [
    "stickers_by_id = {}\n",
    "for sticker in stickers_main:\n",
    "    sticker_copy = dict(sticker)\n",
    "\n",
    "    sticker_copy.pop('rarity',None)\n",
    "\n",
    "    sticker_copy.pop('description',None)\n",
    "    sticker_copy.pop('crates',None)\n",
    "\n",
    "    stickers_by_id[sticker_copy['id']] = sticker_copy"
   ]
  },
  {
   "cell_type": "code",
   "execution_count": 43,
   "metadata": {},
   "outputs": [],
   "source": [
    "with open('stickers_by_id.json','w') as f:\n",
    "    json.dump(stickers_by_id,f)"
   ]
  }
 ],
 "metadata": {
  "kernelspec": {
   "display_name": "jpter",
   "language": "python",
   "name": "python3"
  },
  "language_info": {
   "codemirror_mode": {
    "name": "ipython",
    "version": 3
   },
   "file_extension": ".py",
   "mimetype": "text/x-python",
   "name": "python",
   "nbconvert_exporter": "python",
   "pygments_lexer": "ipython3",
   "version": "0.0.0"
  }
 },
 "nbformat": 4,
 "nbformat_minor": 2
}
